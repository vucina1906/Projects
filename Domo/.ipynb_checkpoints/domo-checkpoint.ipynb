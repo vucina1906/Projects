{
 "cells": [
  {
   "cell_type": "code",
   "execution_count": 1,
   "id": "dd26993b",
   "metadata": {},
   "outputs": [],
   "source": [
    "%config Completer.use_jedi = False"
   ]
  },
  {
   "cell_type": "code",
   "execution_count": 48,
   "id": "a9e73c64",
   "metadata": {},
   "outputs": [
    {
     "data": {
      "text/html": [
       "        <script type=\"text/javascript\">\n",
       "        window.PlotlyConfig = {MathJaxConfig: 'local'};\n",
       "        if (window.MathJax) {MathJax.Hub.Config({SVG: {font: \"STIX-Web\"}});}\n",
       "        if (typeof require !== 'undefined') {\n",
       "        require.undef(\"plotly\");\n",
       "        requirejs.config({\n",
       "            paths: {\n",
       "                'plotly': ['https://cdn.plot.ly/plotly-2.4.2.min']\n",
       "            }\n",
       "        });\n",
       "        require(['plotly'], function(Plotly) {\n",
       "            window._Plotly = Plotly;\n",
       "        });\n",
       "        }\n",
       "        </script>\n",
       "        "
      ]
     },
     "metadata": {},
     "output_type": "display_data"
    },
    {
     "data": {
      "text/html": [
       "        <script type=\"text/javascript\">\n",
       "        window.PlotlyConfig = {MathJaxConfig: 'local'};\n",
       "        if (window.MathJax) {MathJax.Hub.Config({SVG: {font: \"STIX-Web\"}});}\n",
       "        if (typeof require !== 'undefined') {\n",
       "        require.undef(\"plotly\");\n",
       "        requirejs.config({\n",
       "            paths: {\n",
       "                'plotly': ['https://cdn.plot.ly/plotly-2.4.2.min']\n",
       "            }\n",
       "        });\n",
       "        require(['plotly'], function(Plotly) {\n",
       "            window._Plotly = Plotly;\n",
       "        });\n",
       "        }\n",
       "        </script>\n",
       "        "
      ]
     },
     "metadata": {},
     "output_type": "display_data"
    }
   ],
   "source": [
    "import pandas as pd\n",
    "import numpy as np\n",
    "import matplotlib.pyplot as plt\n",
    "%matplotlib inline\n",
    "import seaborn as sns\n",
    "import cufflinks as cf\n",
    "cf.go_offline()\n",
    "import plotly.graph_objs as go \n",
    "from plotly.offline import init_notebook_mode,iplot,plot\n",
    "init_notebook_mode(connected=True)"
   ]
  },
  {
   "cell_type": "code",
   "execution_count": 3,
   "id": "f9836a01",
   "metadata": {},
   "outputs": [],
   "source": [
    "df = pd.read_csv(\"DOMO.csv\")"
   ]
  },
  {
   "cell_type": "code",
   "execution_count": 4,
   "id": "cbb32e29",
   "metadata": {},
   "outputs": [
    {
     "data": {
      "text/html": [
       "<div>\n",
       "<style scoped>\n",
       "    .dataframe tbody tr th:only-of-type {\n",
       "        vertical-align: middle;\n",
       "    }\n",
       "\n",
       "    .dataframe tbody tr th {\n",
       "        vertical-align: top;\n",
       "    }\n",
       "\n",
       "    .dataframe thead th {\n",
       "        text-align: right;\n",
       "    }\n",
       "</style>\n",
       "<table border=\"1\" class=\"dataframe\">\n",
       "  <thead>\n",
       "    <tr style=\"text-align: right;\">\n",
       "      <th></th>\n",
       "      <th>URL</th>\n",
       "      <th>Date</th>\n",
       "      <th>View ID</th>\n",
       "      <th>City</th>\n",
       "      <th>Metro</th>\n",
       "      <th>Region</th>\n",
       "      <th>Country</th>\n",
       "      <th>Latitude</th>\n",
       "      <th>Longitude</th>\n",
       "      <th>Segment - Monthly Users</th>\n",
       "      <th>...</th>\n",
       "      <th>Sessions</th>\n",
       "      <th>Session Duration</th>\n",
       "      <th>New Users</th>\n",
       "      <th>Daily Users</th>\n",
       "      <th>Platform</th>\n",
       "      <th>Station</th>\n",
       "      <th>MMG</th>\n",
       "      <th>OSBE</th>\n",
       "      <th>Joint Licensee?</th>\n",
       "      <th>Licensee type</th>\n",
       "    </tr>\n",
       "  </thead>\n",
       "  <tbody>\n",
       "    <tr>\n",
       "      <th>0</th>\n",
       "      <td>https://image.pbs.org/stations/wsbe-color-cobr...</td>\n",
       "      <td>2022-08-02</td>\n",
       "      <td>89288801-1</td>\n",
       "      <td>Mercer Island</td>\n",
       "      <td>Seattle-Tacoma WA</td>\n",
       "      <td>Washington</td>\n",
       "      <td>United States</td>\n",
       "      <td>47.5707</td>\n",
       "      <td>-122.2221</td>\n",
       "      <td>NaN</td>\n",
       "      <td>...</td>\n",
       "      <td>NaN</td>\n",
       "      <td>NaN</td>\n",
       "      <td>NaN</td>\n",
       "      <td>NaN</td>\n",
       "      <td>Mobile</td>\n",
       "      <td>WSBE</td>\n",
       "      <td>No</td>\n",
       "      <td>No</td>\n",
       "      <td>TV only</td>\n",
       "      <td>Community</td>\n",
       "    </tr>\n",
       "    <tr>\n",
       "      <th>1</th>\n",
       "      <td>https://image.pbs.org/stations/wsbe-color-cobr...</td>\n",
       "      <td>2022-07-07</td>\n",
       "      <td>89288801-1</td>\n",
       "      <td>Mercer Island</td>\n",
       "      <td>Seattle-Tacoma WA</td>\n",
       "      <td>Washington</td>\n",
       "      <td>United States</td>\n",
       "      <td>47.5707</td>\n",
       "      <td>-122.2221</td>\n",
       "      <td>NaN</td>\n",
       "      <td>...</td>\n",
       "      <td>NaN</td>\n",
       "      <td>NaN</td>\n",
       "      <td>NaN</td>\n",
       "      <td>NaN</td>\n",
       "      <td>Mobile</td>\n",
       "      <td>WSBE</td>\n",
       "      <td>No</td>\n",
       "      <td>No</td>\n",
       "      <td>TV only</td>\n",
       "      <td>Community</td>\n",
       "    </tr>\n",
       "    <tr>\n",
       "      <th>2</th>\n",
       "      <td>https://image.pbs.org/stations/wsbe-color-cobr...</td>\n",
       "      <td>2022-08-27</td>\n",
       "      <td>89288801-1</td>\n",
       "      <td>Mercer Island</td>\n",
       "      <td>Seattle-Tacoma WA</td>\n",
       "      <td>Washington</td>\n",
       "      <td>United States</td>\n",
       "      <td>47.5707</td>\n",
       "      <td>-122.2221</td>\n",
       "      <td>NaN</td>\n",
       "      <td>...</td>\n",
       "      <td>NaN</td>\n",
       "      <td>NaN</td>\n",
       "      <td>NaN</td>\n",
       "      <td>NaN</td>\n",
       "      <td>Mobile</td>\n",
       "      <td>WSBE</td>\n",
       "      <td>No</td>\n",
       "      <td>No</td>\n",
       "      <td>TV only</td>\n",
       "      <td>Community</td>\n",
       "    </tr>\n",
       "    <tr>\n",
       "      <th>3</th>\n",
       "      <td>https://image.pbs.org/stations/wsbe-color-cobr...</td>\n",
       "      <td>2022-09-29</td>\n",
       "      <td>65185712</td>\n",
       "      <td>Providence</td>\n",
       "      <td>Providence-New Bedford,MA</td>\n",
       "      <td>Rhode Island</td>\n",
       "      <td>United States</td>\n",
       "      <td>41.8240</td>\n",
       "      <td>-71.4128</td>\n",
       "      <td>NaN</td>\n",
       "      <td>...</td>\n",
       "      <td>1.0</td>\n",
       "      <td>NaN</td>\n",
       "      <td>NaN</td>\n",
       "      <td>1.0</td>\n",
       "      <td>pbs.org</td>\n",
       "      <td>WSBE</td>\n",
       "      <td>No</td>\n",
       "      <td>No</td>\n",
       "      <td>TV only</td>\n",
       "      <td>Community</td>\n",
       "    </tr>\n",
       "    <tr>\n",
       "      <th>4</th>\n",
       "      <td>https://image.pbs.org/stations/wsbe-color-cobr...</td>\n",
       "      <td>2022-07-06</td>\n",
       "      <td>68900583</td>\n",
       "      <td>Portland</td>\n",
       "      <td>Portland OR</td>\n",
       "      <td>Oregon</td>\n",
       "      <td>United States</td>\n",
       "      <td>45.5152</td>\n",
       "      <td>-122.6784</td>\n",
       "      <td>NaN</td>\n",
       "      <td>...</td>\n",
       "      <td>1.0</td>\n",
       "      <td>NaN</td>\n",
       "      <td>NaN</td>\n",
       "      <td>1.0</td>\n",
       "      <td>OTT</td>\n",
       "      <td>WSBE</td>\n",
       "      <td>No</td>\n",
       "      <td>No</td>\n",
       "      <td>TV only</td>\n",
       "      <td>Community</td>\n",
       "    </tr>\n",
       "  </tbody>\n",
       "</table>\n",
       "<p>5 rows × 43 columns</p>\n",
       "</div>"
      ],
      "text/plain": [
       "                                                 URL        Date     View ID  \\\n",
       "0  https://image.pbs.org/stations/wsbe-color-cobr...  2022-08-02  89288801-1   \n",
       "1  https://image.pbs.org/stations/wsbe-color-cobr...  2022-07-07  89288801-1   \n",
       "2  https://image.pbs.org/stations/wsbe-color-cobr...  2022-08-27  89288801-1   \n",
       "3  https://image.pbs.org/stations/wsbe-color-cobr...  2022-09-29    65185712   \n",
       "4  https://image.pbs.org/stations/wsbe-color-cobr...  2022-07-06    68900583   \n",
       "\n",
       "            City                      Metro        Region        Country  \\\n",
       "0  Mercer Island          Seattle-Tacoma WA    Washington  United States   \n",
       "1  Mercer Island          Seattle-Tacoma WA    Washington  United States   \n",
       "2  Mercer Island          Seattle-Tacoma WA    Washington  United States   \n",
       "3     Providence  Providence-New Bedford,MA  Rhode Island  United States   \n",
       "4       Portland                Portland OR        Oregon  United States   \n",
       "\n",
       "   Latitude  Longitude Segment - Monthly Users  ...  Sessions  \\\n",
       "0   47.5707  -122.2221                     NaN  ...       NaN   \n",
       "1   47.5707  -122.2221                     NaN  ...       NaN   \n",
       "2   47.5707  -122.2221                     NaN  ...       NaN   \n",
       "3   41.8240   -71.4128                     NaN  ...       1.0   \n",
       "4   45.5152  -122.6784                     NaN  ...       1.0   \n",
       "\n",
       "  Session Duration New Users Daily Users Platform Station MMG OSBE  \\\n",
       "0              NaN       NaN         NaN   Mobile    WSBE  No   No   \n",
       "1              NaN       NaN         NaN   Mobile    WSBE  No   No   \n",
       "2              NaN       NaN         NaN   Mobile    WSBE  No   No   \n",
       "3              NaN       NaN         1.0  pbs.org    WSBE  No   No   \n",
       "4              NaN       NaN         1.0      OTT    WSBE  No   No   \n",
       "\n",
       "  Joint Licensee? Licensee type  \n",
       "0         TV only     Community  \n",
       "1         TV only     Community  \n",
       "2         TV only     Community  \n",
       "3         TV only     Community  \n",
       "4         TV only     Community  \n",
       "\n",
       "[5 rows x 43 columns]"
      ]
     },
     "execution_count": 4,
     "metadata": {},
     "output_type": "execute_result"
    }
   ],
   "source": [
    "df.head()"
   ]
  },
  {
   "cell_type": "code",
   "execution_count": 5,
   "id": "aa0c47d8",
   "metadata": {},
   "outputs": [],
   "source": [
    "df.drop([\"URL\",\"View ID\"], axis=1,inplace=True)"
   ]
  },
  {
   "cell_type": "code",
   "execution_count": 6,
   "id": "bc1d2074",
   "metadata": {},
   "outputs": [
    {
     "data": {
      "text/html": [
       "<div>\n",
       "<style scoped>\n",
       "    .dataframe tbody tr th:only-of-type {\n",
       "        vertical-align: middle;\n",
       "    }\n",
       "\n",
       "    .dataframe tbody tr th {\n",
       "        vertical-align: top;\n",
       "    }\n",
       "\n",
       "    .dataframe thead th {\n",
       "        text-align: right;\n",
       "    }\n",
       "</style>\n",
       "<table border=\"1\" class=\"dataframe\">\n",
       "  <thead>\n",
       "    <tr style=\"text-align: right;\">\n",
       "      <th></th>\n",
       "      <th>Date</th>\n",
       "      <th>City</th>\n",
       "      <th>Metro</th>\n",
       "      <th>Region</th>\n",
       "      <th>Country</th>\n",
       "      <th>Latitude</th>\n",
       "      <th>Longitude</th>\n",
       "      <th>Segment - Monthly Users</th>\n",
       "      <th>Monthly Users</th>\n",
       "      <th>Account</th>\n",
       "      <th>...</th>\n",
       "      <th>Sessions</th>\n",
       "      <th>Session Duration</th>\n",
       "      <th>New Users</th>\n",
       "      <th>Daily Users</th>\n",
       "      <th>Platform</th>\n",
       "      <th>Station</th>\n",
       "      <th>MMG</th>\n",
       "      <th>OSBE</th>\n",
       "      <th>Joint Licensee?</th>\n",
       "      <th>Licensee type</th>\n",
       "    </tr>\n",
       "  </thead>\n",
       "  <tbody>\n",
       "    <tr>\n",
       "      <th>0</th>\n",
       "      <td>2022-08-02</td>\n",
       "      <td>Mercer Island</td>\n",
       "      <td>Seattle-Tacoma WA</td>\n",
       "      <td>Washington</td>\n",
       "      <td>United States</td>\n",
       "      <td>47.5707</td>\n",
       "      <td>-122.2221</td>\n",
       "      <td>NaN</td>\n",
       "      <td>NaN</td>\n",
       "      <td>PBS Mobile Apps</td>\n",
       "      <td>...</td>\n",
       "      <td>NaN</td>\n",
       "      <td>NaN</td>\n",
       "      <td>NaN</td>\n",
       "      <td>NaN</td>\n",
       "      <td>Mobile</td>\n",
       "      <td>WSBE</td>\n",
       "      <td>No</td>\n",
       "      <td>No</td>\n",
       "      <td>TV only</td>\n",
       "      <td>Community</td>\n",
       "    </tr>\n",
       "    <tr>\n",
       "      <th>1</th>\n",
       "      <td>2022-07-07</td>\n",
       "      <td>Mercer Island</td>\n",
       "      <td>Seattle-Tacoma WA</td>\n",
       "      <td>Washington</td>\n",
       "      <td>United States</td>\n",
       "      <td>47.5707</td>\n",
       "      <td>-122.2221</td>\n",
       "      <td>NaN</td>\n",
       "      <td>NaN</td>\n",
       "      <td>PBS Mobile Apps</td>\n",
       "      <td>...</td>\n",
       "      <td>NaN</td>\n",
       "      <td>NaN</td>\n",
       "      <td>NaN</td>\n",
       "      <td>NaN</td>\n",
       "      <td>Mobile</td>\n",
       "      <td>WSBE</td>\n",
       "      <td>No</td>\n",
       "      <td>No</td>\n",
       "      <td>TV only</td>\n",
       "      <td>Community</td>\n",
       "    </tr>\n",
       "    <tr>\n",
       "      <th>2</th>\n",
       "      <td>2022-08-27</td>\n",
       "      <td>Mercer Island</td>\n",
       "      <td>Seattle-Tacoma WA</td>\n",
       "      <td>Washington</td>\n",
       "      <td>United States</td>\n",
       "      <td>47.5707</td>\n",
       "      <td>-122.2221</td>\n",
       "      <td>NaN</td>\n",
       "      <td>NaN</td>\n",
       "      <td>PBS Mobile Apps</td>\n",
       "      <td>...</td>\n",
       "      <td>NaN</td>\n",
       "      <td>NaN</td>\n",
       "      <td>NaN</td>\n",
       "      <td>NaN</td>\n",
       "      <td>Mobile</td>\n",
       "      <td>WSBE</td>\n",
       "      <td>No</td>\n",
       "      <td>No</td>\n",
       "      <td>TV only</td>\n",
       "      <td>Community</td>\n",
       "    </tr>\n",
       "    <tr>\n",
       "      <th>3</th>\n",
       "      <td>2022-09-29</td>\n",
       "      <td>Providence</td>\n",
       "      <td>Providence-New Bedford,MA</td>\n",
       "      <td>Rhode Island</td>\n",
       "      <td>United States</td>\n",
       "      <td>41.8240</td>\n",
       "      <td>-71.4128</td>\n",
       "      <td>NaN</td>\n",
       "      <td>NaN</td>\n",
       "      <td>*www.pbs.org</td>\n",
       "      <td>...</td>\n",
       "      <td>1.0</td>\n",
       "      <td>NaN</td>\n",
       "      <td>NaN</td>\n",
       "      <td>1.0</td>\n",
       "      <td>pbs.org</td>\n",
       "      <td>WSBE</td>\n",
       "      <td>No</td>\n",
       "      <td>No</td>\n",
       "      <td>TV only</td>\n",
       "      <td>Community</td>\n",
       "    </tr>\n",
       "    <tr>\n",
       "      <th>4</th>\n",
       "      <td>2022-07-06</td>\n",
       "      <td>Portland</td>\n",
       "      <td>Portland OR</td>\n",
       "      <td>Oregon</td>\n",
       "      <td>United States</td>\n",
       "      <td>45.5152</td>\n",
       "      <td>-122.6784</td>\n",
       "      <td>NaN</td>\n",
       "      <td>NaN</td>\n",
       "      <td>PBS OTT Apps</td>\n",
       "      <td>...</td>\n",
       "      <td>1.0</td>\n",
       "      <td>NaN</td>\n",
       "      <td>NaN</td>\n",
       "      <td>1.0</td>\n",
       "      <td>OTT</td>\n",
       "      <td>WSBE</td>\n",
       "      <td>No</td>\n",
       "      <td>No</td>\n",
       "      <td>TV only</td>\n",
       "      <td>Community</td>\n",
       "    </tr>\n",
       "  </tbody>\n",
       "</table>\n",
       "<p>5 rows × 41 columns</p>\n",
       "</div>"
      ],
      "text/plain": [
       "         Date           City                      Metro        Region  \\\n",
       "0  2022-08-02  Mercer Island          Seattle-Tacoma WA    Washington   \n",
       "1  2022-07-07  Mercer Island          Seattle-Tacoma WA    Washington   \n",
       "2  2022-08-27  Mercer Island          Seattle-Tacoma WA    Washington   \n",
       "3  2022-09-29     Providence  Providence-New Bedford,MA  Rhode Island   \n",
       "4  2022-07-06       Portland                Portland OR        Oregon   \n",
       "\n",
       "         Country  Latitude  Longitude Segment - Monthly Users  Monthly Users  \\\n",
       "0  United States   47.5707  -122.2221                     NaN            NaN   \n",
       "1  United States   47.5707  -122.2221                     NaN            NaN   \n",
       "2  United States   47.5707  -122.2221                     NaN            NaN   \n",
       "3  United States   41.8240   -71.4128                     NaN            NaN   \n",
       "4  United States   45.5152  -122.6784                     NaN            NaN   \n",
       "\n",
       "           Account  ... Sessions Session Duration New Users Daily Users  \\\n",
       "0  PBS Mobile Apps  ...      NaN              NaN       NaN         NaN   \n",
       "1  PBS Mobile Apps  ...      NaN              NaN       NaN         NaN   \n",
       "2  PBS Mobile Apps  ...      NaN              NaN       NaN         NaN   \n",
       "3     *www.pbs.org  ...      1.0              NaN       NaN         1.0   \n",
       "4     PBS OTT Apps  ...      1.0              NaN       NaN         1.0   \n",
       "\n",
       "  Platform Station MMG OSBE Joint Licensee? Licensee type  \n",
       "0   Mobile    WSBE  No   No         TV only     Community  \n",
       "1   Mobile    WSBE  No   No         TV only     Community  \n",
       "2   Mobile    WSBE  No   No         TV only     Community  \n",
       "3  pbs.org    WSBE  No   No         TV only     Community  \n",
       "4      OTT    WSBE  No   No         TV only     Community  \n",
       "\n",
       "[5 rows x 41 columns]"
      ]
     },
     "execution_count": 6,
     "metadata": {},
     "output_type": "execute_result"
    }
   ],
   "source": [
    "df.head()"
   ]
  },
  {
   "cell_type": "code",
   "execution_count": 7,
   "id": "574ac4e1",
   "metadata": {},
   "outputs": [
    {
     "data": {
      "text/html": [
       "<div>\n",
       "<style scoped>\n",
       "    .dataframe tbody tr th:only-of-type {\n",
       "        vertical-align: middle;\n",
       "    }\n",
       "\n",
       "    .dataframe tbody tr th {\n",
       "        vertical-align: top;\n",
       "    }\n",
       "\n",
       "    .dataframe thead th {\n",
       "        text-align: right;\n",
       "    }\n",
       "</style>\n",
       "<table border=\"1\" class=\"dataframe\">\n",
       "  <thead>\n",
       "    <tr style=\"text-align: right;\">\n",
       "      <th></th>\n",
       "      <th>Latitude</th>\n",
       "      <th>Longitude</th>\n",
       "      <th>Monthly Users</th>\n",
       "      <th>Total Events</th>\n",
       "      <th>Event Value</th>\n",
       "      <th>TP Media ID</th>\n",
       "      <th>Sessions</th>\n",
       "      <th>Session Duration</th>\n",
       "      <th>New Users</th>\n",
       "      <th>Daily Users</th>\n",
       "    </tr>\n",
       "  </thead>\n",
       "  <tbody>\n",
       "    <tr>\n",
       "      <th>count</th>\n",
       "      <td>1993.000000</td>\n",
       "      <td>1993.000000</td>\n",
       "      <td>214.000000</td>\n",
       "      <td>1081.000000</td>\n",
       "      <td>544.000000</td>\n",
       "      <td>1.015000e+03</td>\n",
       "      <td>705.000000</td>\n",
       "      <td>563.000000</td>\n",
       "      <td>134.000000</td>\n",
       "      <td>705.000000</td>\n",
       "    </tr>\n",
       "    <tr>\n",
       "      <th>mean</th>\n",
       "      <td>40.144533</td>\n",
       "      <td>-71.871210</td>\n",
       "      <td>7.649533</td>\n",
       "      <td>1.839038</td>\n",
       "      <td>1767.490809</td>\n",
       "      <td>2.940038e+09</td>\n",
       "      <td>1.710638</td>\n",
       "      <td>767.539964</td>\n",
       "      <td>1.507463</td>\n",
       "      <td>1.280851</td>\n",
       "    </tr>\n",
       "    <tr>\n",
       "      <th>std</th>\n",
       "      <td>7.228985</td>\n",
       "      <td>17.232477</td>\n",
       "      <td>28.793641</td>\n",
       "      <td>1.514129</td>\n",
       "      <td>1930.863402</td>\n",
       "      <td>3.148788e+08</td>\n",
       "      <td>1.887071</td>\n",
       "      <td>1540.695011</td>\n",
       "      <td>2.427122</td>\n",
       "      <td>1.440285</td>\n",
       "    </tr>\n",
       "    <tr>\n",
       "      <th>min</th>\n",
       "      <td>0.000000</td>\n",
       "      <td>-123.105900</td>\n",
       "      <td>1.000000</td>\n",
       "      <td>1.000000</td>\n",
       "      <td>1.000000</td>\n",
       "      <td>1.539396e+07</td>\n",
       "      <td>1.000000</td>\n",
       "      <td>1.000000</td>\n",
       "      <td>1.000000</td>\n",
       "      <td>1.000000</td>\n",
       "    </tr>\n",
       "    <tr>\n",
       "      <th>25%</th>\n",
       "      <td>41.450100</td>\n",
       "      <td>-71.758100</td>\n",
       "      <td>1.000000</td>\n",
       "      <td>1.000000</td>\n",
       "      <td>141.250000</td>\n",
       "      <td>3.029509e+09</td>\n",
       "      <td>1.000000</td>\n",
       "      <td>56.000000</td>\n",
       "      <td>1.000000</td>\n",
       "      <td>1.000000</td>\n",
       "    </tr>\n",
       "    <tr>\n",
       "      <th>50%</th>\n",
       "      <td>41.703700</td>\n",
       "      <td>-71.412800</td>\n",
       "      <td>1.000000</td>\n",
       "      <td>1.000000</td>\n",
       "      <td>1241.000000</td>\n",
       "      <td>3.062366e+09</td>\n",
       "      <td>1.000000</td>\n",
       "      <td>199.000000</td>\n",
       "      <td>1.000000</td>\n",
       "      <td>1.000000</td>\n",
       "    </tr>\n",
       "    <tr>\n",
       "      <th>75%</th>\n",
       "      <td>41.922000</td>\n",
       "      <td>-71.250300</td>\n",
       "      <td>3.000000</td>\n",
       "      <td>2.000000</td>\n",
       "      <td>3098.250000</td>\n",
       "      <td>3.069696e+09</td>\n",
       "      <td>2.000000</td>\n",
       "      <td>765.000000</td>\n",
       "      <td>1.000000</td>\n",
       "      <td>1.000000</td>\n",
       "    </tr>\n",
       "    <tr>\n",
       "      <th>max</th>\n",
       "      <td>59.329300</td>\n",
       "      <td>139.703800</td>\n",
       "      <td>295.000000</td>\n",
       "      <td>16.000000</td>\n",
       "      <td>13518.000000</td>\n",
       "      <td>3.072404e+09</td>\n",
       "      <td>31.000000</td>\n",
       "      <td>19293.000000</td>\n",
       "      <td>24.000000</td>\n",
       "      <td>30.000000</td>\n",
       "    </tr>\n",
       "  </tbody>\n",
       "</table>\n",
       "</div>"
      ],
      "text/plain": [
       "          Latitude    Longitude  Monthly Users  Total Events   Event Value  \\\n",
       "count  1993.000000  1993.000000     214.000000   1081.000000    544.000000   \n",
       "mean     40.144533   -71.871210       7.649533      1.839038   1767.490809   \n",
       "std       7.228985    17.232477      28.793641      1.514129   1930.863402   \n",
       "min       0.000000  -123.105900       1.000000      1.000000      1.000000   \n",
       "25%      41.450100   -71.758100       1.000000      1.000000    141.250000   \n",
       "50%      41.703700   -71.412800       1.000000      1.000000   1241.000000   \n",
       "75%      41.922000   -71.250300       3.000000      2.000000   3098.250000   \n",
       "max      59.329300   139.703800     295.000000     16.000000  13518.000000   \n",
       "\n",
       "        TP Media ID    Sessions  Session Duration   New Users  Daily Users  \n",
       "count  1.015000e+03  705.000000        563.000000  134.000000   705.000000  \n",
       "mean   2.940038e+09    1.710638        767.539964    1.507463     1.280851  \n",
       "std    3.148788e+08    1.887071       1540.695011    2.427122     1.440285  \n",
       "min    1.539396e+07    1.000000          1.000000    1.000000     1.000000  \n",
       "25%    3.029509e+09    1.000000         56.000000    1.000000     1.000000  \n",
       "50%    3.062366e+09    1.000000        199.000000    1.000000     1.000000  \n",
       "75%    3.069696e+09    2.000000        765.000000    1.000000     1.000000  \n",
       "max    3.072404e+09   31.000000      19293.000000   24.000000    30.000000  "
      ]
     },
     "execution_count": 7,
     "metadata": {},
     "output_type": "execute_result"
    }
   ],
   "source": [
    "df.describe()"
   ]
  },
  {
   "cell_type": "code",
   "execution_count": 8,
   "id": "cb6a2f81",
   "metadata": {},
   "outputs": [
    {
     "name": "stdout",
     "output_type": "stream",
     "text": [
      "<class 'pandas.core.frame.DataFrame'>\n",
      "RangeIndex: 2000 entries, 0 to 1999\n",
      "Data columns (total 41 columns):\n",
      " #   Column                     Non-Null Count  Dtype  \n",
      "---  ------                     --------------  -----  \n",
      " 0   Date                       2000 non-null   object \n",
      " 1   City                       1993 non-null   object \n",
      " 2   Metro                      1993 non-null   object \n",
      " 3   Region                     1993 non-null   object \n",
      " 4   Country                    1993 non-null   object \n",
      " 5   Latitude                   1993 non-null   float64\n",
      " 6   Longitude                  1993 non-null   float64\n",
      " 7   Segment - Monthly Users    214 non-null    object \n",
      " 8   Monthly Users              214 non-null    float64\n",
      " 9   Account                    2000 non-null   object \n",
      " 10  Web Property               2000 non-null   object \n",
      " 11  View (Profile)             2000 non-null   object \n",
      " 12  Device                     1786 non-null   object \n",
      " 13  Operating System           1786 non-null   object \n",
      " 14  Segment - Signed In        1786 non-null   object \n",
      " 15  Segment - Streaming User   1786 non-null   object \n",
      " 16  Segment - LiveStream User  1786 non-null   object \n",
      " 17  Segment - Passport User    1786 non-null   object \n",
      " 18  Event Category             1081 non-null   object \n",
      " 19  Event Label                1081 non-null   object \n",
      " 20  Event Action               1081 non-null   object \n",
      " 21  Total Events               1081 non-null   float64\n",
      " 22  Event Value                544 non-null    float64\n",
      " 23  Program                    1081 non-null   object \n",
      " 24  Show Name                  864 non-null    object \n",
      " 25  Video Name                 1015 non-null   object \n",
      " 26  TP Media ID                1015 non-null   float64\n",
      " 27  Media Manager Content ID   864 non-null    object \n",
      " 28  Video Type                 1015 non-null   object \n",
      " 29  Audiences                  864 non-null    object \n",
      " 30  Originating Station        39 non-null     object \n",
      " 31  Sessions                   705 non-null    float64\n",
      " 32  Session Duration           563 non-null    float64\n",
      " 33  New Users                  134 non-null    float64\n",
      " 34  Daily Users                705 non-null    float64\n",
      " 35  Platform                   2000 non-null   object \n",
      " 36  Station                    2000 non-null   object \n",
      " 37  MMG                        2000 non-null   object \n",
      " 38  OSBE                       2000 non-null   object \n",
      " 39  Joint Licensee?            2000 non-null   object \n",
      " 40  Licensee type              2000 non-null   object \n",
      "dtypes: float64(10), object(31)\n",
      "memory usage: 640.8+ KB\n"
     ]
    }
   ],
   "source": [
    "#There are max 2000 data per columns (some columns missing data)\n",
    "df.info()"
   ]
  },
  {
   "cell_type": "code",
   "execution_count": 9,
   "id": "41fde4dd",
   "metadata": {},
   "outputs": [
    {
     "data": {
      "text/plain": [
       "Date                            0\n",
       "City                            7\n",
       "Metro                           7\n",
       "Region                          7\n",
       "Country                         7\n",
       "Latitude                        7\n",
       "Longitude                       7\n",
       "Segment - Monthly Users      1786\n",
       "Monthly Users                1786\n",
       "Account                         0\n",
       "Web Property                    0\n",
       "View (Profile)                  0\n",
       "Device                        214\n",
       "Operating System              214\n",
       "Segment - Signed In           214\n",
       "Segment - Streaming User      214\n",
       "Segment - LiveStream User     214\n",
       "Segment - Passport User       214\n",
       "Event Category                919\n",
       "Event Label                   919\n",
       "Event Action                  919\n",
       "Total Events                  919\n",
       "Event Value                  1456\n",
       "Program                       919\n",
       "Show Name                    1136\n",
       "Video Name                    985\n",
       "TP Media ID                   985\n",
       "Media Manager Content ID     1136\n",
       "Video Type                    985\n",
       "Audiences                    1136\n",
       "Originating Station          1961\n",
       "Sessions                     1295\n",
       "Session Duration             1437\n",
       "New Users                    1866\n",
       "Daily Users                  1295\n",
       "Platform                        0\n",
       "Station                         0\n",
       "MMG                             0\n",
       "OSBE                            0\n",
       "Joint Licensee?                 0\n",
       "Licensee type                   0\n",
       "dtype: int64"
      ]
     },
     "execution_count": 9,
     "metadata": {},
     "output_type": "execute_result"
    }
   ],
   "source": [
    "#Delete columns where more than \n",
    "df.isnull().sum()"
   ]
  },
  {
   "cell_type": "code",
   "execution_count": 10,
   "id": "87a7b134",
   "metadata": {},
   "outputs": [
    {
     "data": {
      "text/plain": [
       "Index(['Segment - Monthly Users', 'Monthly Users', 'Event Value', 'Show Name',\n",
       "       'Media Manager Content ID', 'Audiences', 'Originating Station',\n",
       "       'Sessions', 'Session Duration', 'New Users', 'Daily Users'],\n",
       "      dtype='object')"
      ]
     },
     "execution_count": 10,
     "metadata": {},
     "output_type": "execute_result"
    }
   ],
   "source": [
    "#Drop columns where more than 50% of data are missing values (down bellow you can see the list of columns)\n",
    "df.columns[df.isnull().mean()>0.5]"
   ]
  },
  {
   "cell_type": "code",
   "execution_count": 11,
   "id": "11c2aa8f",
   "metadata": {},
   "outputs": [],
   "source": [
    "df.drop(df.columns[df.isnull().mean()>0.5],axis=1,inplace=True)"
   ]
  },
  {
   "cell_type": "code",
   "execution_count": 12,
   "id": "120ca76a",
   "metadata": {},
   "outputs": [
    {
     "data": {
      "text/plain": [
       "MMG  OSBE  Joint Licensee?  Licensee type\n",
       "No   No    TV only          Community        2000\n",
       "dtype: int64"
      ]
     },
     "execution_count": 12,
     "metadata": {},
     "output_type": "execute_result"
    }
   ],
   "source": [
    "df[[\"MMG\",\"OSBE\",\"Joint Licensee?\",\"Licensee type\"]].value_counts()"
   ]
  },
  {
   "cell_type": "code",
   "execution_count": 13,
   "id": "02836357",
   "metadata": {},
   "outputs": [],
   "source": [
    "#Columns MMG, OSBE, Joint Licensee, Licensee type are not variables, all fields have same values so we drop these columns \n",
    "df.drop([\"MMG\",\"OSBE\",\"Joint Licensee?\",\"Licensee type\"],axis=1,inplace=True)"
   ]
  },
  {
   "cell_type": "code",
   "execution_count": 14,
   "id": "af067310",
   "metadata": {},
   "outputs": [
    {
     "data": {
      "text/plain": [
       "Date                           0\n",
       "City                           7\n",
       "Metro                          7\n",
       "Region                         7\n",
       "Country                        7\n",
       "Latitude                       7\n",
       "Longitude                      7\n",
       "Account                        0\n",
       "Web Property                   0\n",
       "View (Profile)                 0\n",
       "Device                       214\n",
       "Operating System             214\n",
       "Segment - Signed In          214\n",
       "Segment - Streaming User     214\n",
       "Segment - LiveStream User    214\n",
       "Segment - Passport User      214\n",
       "Event Category               919\n",
       "Event Label                  919\n",
       "Event Action                 919\n",
       "Total Events                 919\n",
       "Program                      919\n",
       "Video Name                   985\n",
       "TP Media ID                  985\n",
       "Video Type                   985\n",
       "Platform                       0\n",
       "Station                        0\n",
       "dtype: int64"
      ]
     },
     "execution_count": 14,
     "metadata": {},
     "output_type": "execute_result"
    }
   ],
   "source": [
    "df.isna().sum()"
   ]
  },
  {
   "cell_type": "code",
   "execution_count": 15,
   "id": "ef6dfcd0",
   "metadata": {},
   "outputs": [
    {
     "data": {
      "text/plain": [
       "array(['tablet', 'desktop', 'mobile', nan], dtype=object)"
      ]
     },
     "execution_count": 15,
     "metadata": {},
     "output_type": "execute_result"
    }
   ],
   "source": [
    "df[\"Device\"].unique()"
   ]
  },
  {
   "cell_type": "code",
   "execution_count": 16,
   "id": "68308192",
   "metadata": {},
   "outputs": [
    {
     "name": "stdout",
     "output_type": "stream",
     "text": [
      "Number of rows with device information: 1786\n",
      "Number of rows without device information: 214\n"
     ]
    }
   ],
   "source": [
    "#Regarding that in columns Device, Operating System and Segments we have 214 values missing we do not wont to scraped them all or to just fillin them with random or most frequent value,\n",
    "#we want to try to predict them based on filled values by using unsupervised algoritam Random Forest Tree Classifies\n",
    "\n",
    "df_with_device = df[df['Device'].notna()]\n",
    "print(\"Number of rows with device information:\", df_with_device.shape[0])\n",
    "\n",
    "df_no_device = df[df['Device'].isna()]\n",
    "print(\"Number of rows without device information:\", df_no_device.shape[0])"
   ]
  },
  {
   "cell_type": "code",
   "execution_count": 17,
   "id": "ca17ab52",
   "metadata": {},
   "outputs": [],
   "source": [
    "from sklearn.model_selection import train_test_split"
   ]
  },
  {
   "cell_type": "markdown",
   "id": "31fc48d0",
   "metadata": {},
   "source": [
    "##from sklearn.ensemble import RandomForestClassifier\n",
    "from sklearn.metrics import log_loss\n",
    "from sklearn.metrics import accuracy_score\n",
    "\n",
    "X = df_with_device.drop([\"Device\",\"Date\"], axis=1).values\n",
    "y = df_with_device[\"Device\"].values\n",
    "\n",
    "X_train, X_test, y_train, y_test = train_test_split(X, y, test_size=0.1, random_state=0)\n",
    "\n",
    "forest = RandomForestClassifier(n_estimators=45, max_depth=25, random_state=False, \n",
    "                                max_features=0.6, min_samples_leaf=3, n_jobs=-1)\n",
    "\n",
    "forest.fit(X_train, y_train)\n",
    "\n",
    "y_pred_train = forest.predict(X_train)\n",
    "y_pred = forest.predict(X_test)\n",
    "\n",
    "y_pred_proba = forest.predict_proba(X_test)\n",
    "\n",
    "accuracy_train = accuracy_score(Y_train, y_pred_train)\n",
    "accuracy_test = accuracy_score(Y_test, y_pred)\n",
    "\n",
    "print(\"ACCURACY: TRAIN=%.4f TEST=%.4f\" % (accuracy_train,accuracy_test))\n",
    "print(\"LOG LOSS: \"+str(log_loss(Y_test, y_pred_proba)))\n",
    "\n",
    "importances = forest.feature_importances_\n",
    "indices = list(np.argsort(importances))[::-1]\n",
    "\n",
    "plt.title(\"Feature importances\")\n",
    "plt.barh(range(len(indices)), importances[indices], color=\"g\", align=\"center\")\n",
    "plt.yticks(range(len(indices)), df_with_maker.iloc[:, 1:].columns[indices])\n",
    "# plt.ylim([-1, len(indices)])\n",
    "plt.gca().invert_yaxis()"
   ]
  },
  {
   "cell_type": "code",
   "execution_count": 18,
   "id": "102a3b3a",
   "metadata": {},
   "outputs": [
    {
     "data": {
      "text/html": [
       "<div>\n",
       "<style scoped>\n",
       "    .dataframe tbody tr th:only-of-type {\n",
       "        vertical-align: middle;\n",
       "    }\n",
       "\n",
       "    .dataframe tbody tr th {\n",
       "        vertical-align: top;\n",
       "    }\n",
       "\n",
       "    .dataframe thead th {\n",
       "        text-align: right;\n",
       "    }\n",
       "</style>\n",
       "<table border=\"1\" class=\"dataframe\">\n",
       "  <thead>\n",
       "    <tr style=\"text-align: right;\">\n",
       "      <th></th>\n",
       "      <th>Date</th>\n",
       "      <th>City</th>\n",
       "      <th>Metro</th>\n",
       "      <th>Region</th>\n",
       "      <th>Country</th>\n",
       "      <th>Latitude</th>\n",
       "      <th>Longitude</th>\n",
       "      <th>Account</th>\n",
       "      <th>Web Property</th>\n",
       "      <th>View (Profile)</th>\n",
       "      <th>...</th>\n",
       "      <th>Event Category</th>\n",
       "      <th>Event Label</th>\n",
       "      <th>Event Action</th>\n",
       "      <th>Total Events</th>\n",
       "      <th>Program</th>\n",
       "      <th>Video Name</th>\n",
       "      <th>TP Media ID</th>\n",
       "      <th>Video Type</th>\n",
       "      <th>Platform</th>\n",
       "      <th>Station</th>\n",
       "    </tr>\n",
       "  </thead>\n",
       "  <tbody>\n",
       "    <tr>\n",
       "      <th>0</th>\n",
       "      <td>2022-08-02</td>\n",
       "      <td>Mercer Island</td>\n",
       "      <td>Seattle-Tacoma WA</td>\n",
       "      <td>Washington</td>\n",
       "      <td>United States</td>\n",
       "      <td>47.5707</td>\n",
       "      <td>-122.2221</td>\n",
       "      <td>PBS Mobile Apps</td>\n",
       "      <td>PBS for Mobile Apps - SDK</td>\n",
       "      <td>PBS General Audience Mobile app - iOS</td>\n",
       "      <td>...</td>\n",
       "      <td>Video - MVOD iOS App</td>\n",
       "      <td>Antiques Roadshow | Special: Junk in the Trunk...</td>\n",
       "      <td>MediaStart</td>\n",
       "      <td>1.0</td>\n",
       "      <td>Antiques Roadshow</td>\n",
       "      <td>Special: Junk in the Trunk 7</td>\n",
       "      <td>3.003716e+09</td>\n",
       "      <td>full_length</td>\n",
       "      <td>Mobile</td>\n",
       "      <td>WSBE</td>\n",
       "    </tr>\n",
       "    <tr>\n",
       "      <th>1</th>\n",
       "      <td>2022-07-07</td>\n",
       "      <td>Mercer Island</td>\n",
       "      <td>Seattle-Tacoma WA</td>\n",
       "      <td>Washington</td>\n",
       "      <td>United States</td>\n",
       "      <td>47.5707</td>\n",
       "      <td>-122.2221</td>\n",
       "      <td>PBS Mobile Apps</td>\n",
       "      <td>PBS for Mobile Apps - SDK</td>\n",
       "      <td>PBS General Audience Mobile app - iOS</td>\n",
       "      <td>...</td>\n",
       "      <td>Video - MVOD iOS App</td>\n",
       "      <td>Finding Your Roots | Secrets &amp; Lies | 30377192...</td>\n",
       "      <td>MediaStart</td>\n",
       "      <td>6.0</td>\n",
       "      <td>Finding Your Roots</td>\n",
       "      <td>Secrets &amp; Lies</td>\n",
       "      <td>3.037719e+09</td>\n",
       "      <td>full_length</td>\n",
       "      <td>Mobile</td>\n",
       "      <td>WSBE</td>\n",
       "    </tr>\n",
       "    <tr>\n",
       "      <th>2</th>\n",
       "      <td>2022-08-27</td>\n",
       "      <td>Mercer Island</td>\n",
       "      <td>Seattle-Tacoma WA</td>\n",
       "      <td>Washington</td>\n",
       "      <td>United States</td>\n",
       "      <td>47.5707</td>\n",
       "      <td>-122.2221</td>\n",
       "      <td>PBS Mobile Apps</td>\n",
       "      <td>PBS for Mobile Apps - SDK</td>\n",
       "      <td>PBS General Audience Mobile app - iOS</td>\n",
       "      <td>...</td>\n",
       "      <td>Video - MVOD iOS App</td>\n",
       "      <td>Antiques Roadshow | Chicago, IL, Hour 1 | 2365...</td>\n",
       "      <td>MediaStart</td>\n",
       "      <td>2.0</td>\n",
       "      <td>Antiques Roadshow</td>\n",
       "      <td>Chicago, IL, Hour 1</td>\n",
       "      <td>2.365563e+09</td>\n",
       "      <td>full_length</td>\n",
       "      <td>Mobile</td>\n",
       "      <td>WSBE</td>\n",
       "    </tr>\n",
       "    <tr>\n",
       "      <th>3</th>\n",
       "      <td>2022-09-29</td>\n",
       "      <td>Providence</td>\n",
       "      <td>Providence-New Bedford,MA</td>\n",
       "      <td>Rhode Island</td>\n",
       "      <td>United States</td>\n",
       "      <td>41.8240</td>\n",
       "      <td>-71.4128</td>\n",
       "      <td>*www.pbs.org</td>\n",
       "      <td>PBS.org - UA Pilot</td>\n",
       "      <td>01 Overall Traffic - UA</td>\n",
       "      <td>...</td>\n",
       "      <td>NaN</td>\n",
       "      <td>NaN</td>\n",
       "      <td>NaN</td>\n",
       "      <td>NaN</td>\n",
       "      <td>NaN</td>\n",
       "      <td>NaN</td>\n",
       "      <td>NaN</td>\n",
       "      <td>NaN</td>\n",
       "      <td>pbs.org</td>\n",
       "      <td>WSBE</td>\n",
       "    </tr>\n",
       "    <tr>\n",
       "      <th>4</th>\n",
       "      <td>2022-07-06</td>\n",
       "      <td>Portland</td>\n",
       "      <td>Portland OR</td>\n",
       "      <td>Oregon</td>\n",
       "      <td>United States</td>\n",
       "      <td>45.5152</td>\n",
       "      <td>-122.6784</td>\n",
       "      <td>PBS OTT Apps</td>\n",
       "      <td>PBS for Roku App</td>\n",
       "      <td>PBS for Roku App</td>\n",
       "      <td>...</td>\n",
       "      <td>NaN</td>\n",
       "      <td>NaN</td>\n",
       "      <td>NaN</td>\n",
       "      <td>NaN</td>\n",
       "      <td>NaN</td>\n",
       "      <td>NaN</td>\n",
       "      <td>NaN</td>\n",
       "      <td>NaN</td>\n",
       "      <td>OTT</td>\n",
       "      <td>WSBE</td>\n",
       "    </tr>\n",
       "    <tr>\n",
       "      <th>...</th>\n",
       "      <td>...</td>\n",
       "      <td>...</td>\n",
       "      <td>...</td>\n",
       "      <td>...</td>\n",
       "      <td>...</td>\n",
       "      <td>...</td>\n",
       "      <td>...</td>\n",
       "      <td>...</td>\n",
       "      <td>...</td>\n",
       "      <td>...</td>\n",
       "      <td>...</td>\n",
       "      <td>...</td>\n",
       "      <td>...</td>\n",
       "      <td>...</td>\n",
       "      <td>...</td>\n",
       "      <td>...</td>\n",
       "      <td>...</td>\n",
       "      <td>...</td>\n",
       "      <td>...</td>\n",
       "      <td>...</td>\n",
       "      <td>...</td>\n",
       "    </tr>\n",
       "    <tr>\n",
       "      <th>1995</th>\n",
       "      <td>2022-09-11</td>\n",
       "      <td>West Greenwich</td>\n",
       "      <td>Providence-New Bedford,MA</td>\n",
       "      <td>Rhode Island</td>\n",
       "      <td>United States</td>\n",
       "      <td>41.6286</td>\n",
       "      <td>-71.6638</td>\n",
       "      <td>PBS OTT Apps</td>\n",
       "      <td>PBS for Roku App</td>\n",
       "      <td>PBS for Roku App</td>\n",
       "      <td>...</td>\n",
       "      <td>NaN</td>\n",
       "      <td>NaN</td>\n",
       "      <td>NaN</td>\n",
       "      <td>NaN</td>\n",
       "      <td>NaN</td>\n",
       "      <td>NaN</td>\n",
       "      <td>NaN</td>\n",
       "      <td>NaN</td>\n",
       "      <td>OTT</td>\n",
       "      <td>WSBE</td>\n",
       "    </tr>\n",
       "    <tr>\n",
       "      <th>1996</th>\n",
       "      <td>2022-07-30</td>\n",
       "      <td>Millis</td>\n",
       "      <td>Boston MA-Manchester NH</td>\n",
       "      <td>Massachusetts</td>\n",
       "      <td>United States</td>\n",
       "      <td>42.1670</td>\n",
       "      <td>-71.3517</td>\n",
       "      <td>PBS Mobile Apps</td>\n",
       "      <td>PBS for Mobile Apps - SDK</td>\n",
       "      <td>PBS General Audience Mobile app - iOS</td>\n",
       "      <td>...</td>\n",
       "      <td>NaN</td>\n",
       "      <td>NaN</td>\n",
       "      <td>NaN</td>\n",
       "      <td>NaN</td>\n",
       "      <td>NaN</td>\n",
       "      <td>NaN</td>\n",
       "      <td>NaN</td>\n",
       "      <td>NaN</td>\n",
       "      <td>Mobile</td>\n",
       "      <td>WSBE</td>\n",
       "    </tr>\n",
       "    <tr>\n",
       "      <th>1997</th>\n",
       "      <td>2022-09-27</td>\n",
       "      <td>Bristol</td>\n",
       "      <td>Providence-New Bedford,MA</td>\n",
       "      <td>Rhode Island</td>\n",
       "      <td>United States</td>\n",
       "      <td>41.6771</td>\n",
       "      <td>-71.2662</td>\n",
       "      <td>PBS Mobile Apps</td>\n",
       "      <td>PBS for Mobile Apps - SDK</td>\n",
       "      <td>PBS General Audience Mobile app - Android</td>\n",
       "      <td>...</td>\n",
       "      <td>NaN</td>\n",
       "      <td>NaN</td>\n",
       "      <td>NaN</td>\n",
       "      <td>NaN</td>\n",
       "      <td>NaN</td>\n",
       "      <td>NaN</td>\n",
       "      <td>NaN</td>\n",
       "      <td>NaN</td>\n",
       "      <td>Mobile</td>\n",
       "      <td>WSBE</td>\n",
       "    </tr>\n",
       "    <tr>\n",
       "      <th>1998</th>\n",
       "      <td>2022-09-27</td>\n",
       "      <td>Newport</td>\n",
       "      <td>Providence-New Bedford,MA</td>\n",
       "      <td>Rhode Island</td>\n",
       "      <td>United States</td>\n",
       "      <td>41.4901</td>\n",
       "      <td>-71.3128</td>\n",
       "      <td>PBS OTT Apps</td>\n",
       "      <td>PBS for Apple TV App - Universal Analytics</td>\n",
       "      <td>PBS for Apple TV App - tvOS plus Legacy</td>\n",
       "      <td>...</td>\n",
       "      <td>NaN</td>\n",
       "      <td>NaN</td>\n",
       "      <td>NaN</td>\n",
       "      <td>NaN</td>\n",
       "      <td>NaN</td>\n",
       "      <td>NaN</td>\n",
       "      <td>NaN</td>\n",
       "      <td>NaN</td>\n",
       "      <td>OTT</td>\n",
       "      <td>WSBE</td>\n",
       "    </tr>\n",
       "    <tr>\n",
       "      <th>1999</th>\n",
       "      <td>2022-07-25</td>\n",
       "      <td>Coventry</td>\n",
       "      <td>Providence-New Bedford,MA</td>\n",
       "      <td>Rhode Island</td>\n",
       "      <td>United States</td>\n",
       "      <td>41.6886</td>\n",
       "      <td>-71.5642</td>\n",
       "      <td>*www.pbs.org</td>\n",
       "      <td>PBS.org - UA Pilot</td>\n",
       "      <td>01 Overall Traffic - UA</td>\n",
       "      <td>...</td>\n",
       "      <td>NaN</td>\n",
       "      <td>NaN</td>\n",
       "      <td>NaN</td>\n",
       "      <td>NaN</td>\n",
       "      <td>NaN</td>\n",
       "      <td>NaN</td>\n",
       "      <td>NaN</td>\n",
       "      <td>NaN</td>\n",
       "      <td>pbs.org</td>\n",
       "      <td>WSBE</td>\n",
       "    </tr>\n",
       "  </tbody>\n",
       "</table>\n",
       "<p>1786 rows × 26 columns</p>\n",
       "</div>"
      ],
      "text/plain": [
       "            Date            City                      Metro         Region  \\\n",
       "0     2022-08-02   Mercer Island          Seattle-Tacoma WA     Washington   \n",
       "1     2022-07-07   Mercer Island          Seattle-Tacoma WA     Washington   \n",
       "2     2022-08-27   Mercer Island          Seattle-Tacoma WA     Washington   \n",
       "3     2022-09-29      Providence  Providence-New Bedford,MA   Rhode Island   \n",
       "4     2022-07-06        Portland                Portland OR         Oregon   \n",
       "...          ...             ...                        ...            ...   \n",
       "1995  2022-09-11  West Greenwich  Providence-New Bedford,MA   Rhode Island   \n",
       "1996  2022-07-30          Millis    Boston MA-Manchester NH  Massachusetts   \n",
       "1997  2022-09-27         Bristol  Providence-New Bedford,MA   Rhode Island   \n",
       "1998  2022-09-27         Newport  Providence-New Bedford,MA   Rhode Island   \n",
       "1999  2022-07-25        Coventry  Providence-New Bedford,MA   Rhode Island   \n",
       "\n",
       "            Country  Latitude  Longitude          Account  \\\n",
       "0     United States   47.5707  -122.2221  PBS Mobile Apps   \n",
       "1     United States   47.5707  -122.2221  PBS Mobile Apps   \n",
       "2     United States   47.5707  -122.2221  PBS Mobile Apps   \n",
       "3     United States   41.8240   -71.4128     *www.pbs.org   \n",
       "4     United States   45.5152  -122.6784     PBS OTT Apps   \n",
       "...             ...       ...        ...              ...   \n",
       "1995  United States   41.6286   -71.6638     PBS OTT Apps   \n",
       "1996  United States   42.1670   -71.3517  PBS Mobile Apps   \n",
       "1997  United States   41.6771   -71.2662  PBS Mobile Apps   \n",
       "1998  United States   41.4901   -71.3128     PBS OTT Apps   \n",
       "1999  United States   41.6886   -71.5642     *www.pbs.org   \n",
       "\n",
       "                                    Web Property  \\\n",
       "0                      PBS for Mobile Apps - SDK   \n",
       "1                      PBS for Mobile Apps - SDK   \n",
       "2                      PBS for Mobile Apps - SDK   \n",
       "3                             PBS.org - UA Pilot   \n",
       "4                               PBS for Roku App   \n",
       "...                                          ...   \n",
       "1995                            PBS for Roku App   \n",
       "1996                   PBS for Mobile Apps - SDK   \n",
       "1997                   PBS for Mobile Apps - SDK   \n",
       "1998  PBS for Apple TV App - Universal Analytics   \n",
       "1999                          PBS.org - UA Pilot   \n",
       "\n",
       "                                 View (Profile)  ...        Event Category  \\\n",
       "0         PBS General Audience Mobile app - iOS  ...  Video - MVOD iOS App   \n",
       "1         PBS General Audience Mobile app - iOS  ...  Video - MVOD iOS App   \n",
       "2         PBS General Audience Mobile app - iOS  ...  Video - MVOD iOS App   \n",
       "3                       01 Overall Traffic - UA  ...                   NaN   \n",
       "4                              PBS for Roku App  ...                   NaN   \n",
       "...                                         ...  ...                   ...   \n",
       "1995                           PBS for Roku App  ...                   NaN   \n",
       "1996      PBS General Audience Mobile app - iOS  ...                   NaN   \n",
       "1997  PBS General Audience Mobile app - Android  ...                   NaN   \n",
       "1998    PBS for Apple TV App - tvOS plus Legacy  ...                   NaN   \n",
       "1999                    01 Overall Traffic - UA  ...                   NaN   \n",
       "\n",
       "                                            Event Label Event Action  \\\n",
       "0     Antiques Roadshow | Special: Junk in the Trunk...   MediaStart   \n",
       "1     Finding Your Roots | Secrets & Lies | 30377192...   MediaStart   \n",
       "2     Antiques Roadshow | Chicago, IL, Hour 1 | 2365...   MediaStart   \n",
       "3                                                   NaN          NaN   \n",
       "4                                                   NaN          NaN   \n",
       "...                                                 ...          ...   \n",
       "1995                                                NaN          NaN   \n",
       "1996                                                NaN          NaN   \n",
       "1997                                                NaN          NaN   \n",
       "1998                                                NaN          NaN   \n",
       "1999                                                NaN          NaN   \n",
       "\n",
       "     Total Events             Program                    Video Name  \\\n",
       "0             1.0   Antiques Roadshow  Special: Junk in the Trunk 7   \n",
       "1             6.0  Finding Your Roots                Secrets & Lies   \n",
       "2             2.0   Antiques Roadshow           Chicago, IL, Hour 1   \n",
       "3             NaN                 NaN                           NaN   \n",
       "4             NaN                 NaN                           NaN   \n",
       "...           ...                 ...                           ...   \n",
       "1995          NaN                 NaN                           NaN   \n",
       "1996          NaN                 NaN                           NaN   \n",
       "1997          NaN                 NaN                           NaN   \n",
       "1998          NaN                 NaN                           NaN   \n",
       "1999          NaN                 NaN                           NaN   \n",
       "\n",
       "       TP Media ID   Video Type Platform  Station  \n",
       "0     3.003716e+09  full_length   Mobile     WSBE  \n",
       "1     3.037719e+09  full_length   Mobile     WSBE  \n",
       "2     2.365563e+09  full_length   Mobile     WSBE  \n",
       "3              NaN          NaN  pbs.org     WSBE  \n",
       "4              NaN          NaN      OTT     WSBE  \n",
       "...            ...          ...      ...      ...  \n",
       "1995           NaN          NaN      OTT     WSBE  \n",
       "1996           NaN          NaN   Mobile     WSBE  \n",
       "1997           NaN          NaN   Mobile     WSBE  \n",
       "1998           NaN          NaN      OTT     WSBE  \n",
       "1999           NaN          NaN  pbs.org     WSBE  \n",
       "\n",
       "[1786 rows x 26 columns]"
      ]
     },
     "execution_count": 18,
     "metadata": {},
     "output_type": "execute_result"
    }
   ],
   "source": [
    "df_with_device"
   ]
  },
  {
   "cell_type": "code",
   "execution_count": 19,
   "id": "66efbe97",
   "metadata": {
    "scrolled": true
   },
   "outputs": [
    {
     "data": {
      "text/plain": [
       "Date                         False\n",
       "City                          True\n",
       "Metro                        False\n",
       "Region                       False\n",
       "Country                      False\n",
       "Latitude                     False\n",
       "Longitude                    False\n",
       "Account                      False\n",
       "Web Property                 False\n",
       "View (Profile)               False\n",
       "Device                       False\n",
       "Operating System             False\n",
       "Segment - Signed In          False\n",
       "Segment - Streaming User     False\n",
       "Segment - LiveStream User    False\n",
       "Segment - Passport User      False\n",
       "Event Category               False\n",
       "Event Label                  False\n",
       "Event Action                 False\n",
       "Total Events                 False\n",
       "Program                      False\n",
       "Video Name                   False\n",
       "TP Media ID                  False\n",
       "Video Type                   False\n",
       "Platform                     False\n",
       "Station                      False\n",
       "dtype: bool"
      ]
     },
     "execution_count": 19,
     "metadata": {},
     "output_type": "execute_result"
    }
   ],
   "source": [
    "df.isin(['Warwick']).any()"
   ]
  },
  {
   "cell_type": "code",
   "execution_count": 20,
   "id": "cde799bf",
   "metadata": {},
   "outputs": [
    {
     "data": {
      "text/plain": [
       "Date                                0\n",
       "City                                7\n",
       "Metro                               7\n",
       "Region                              7\n",
       "Country                             7\n",
       "Latitude                            7\n",
       "Longitude                           7\n",
       "Account                             0\n",
       "Web Property                        0\n",
       "View (Profile)                      0\n",
       "Event Category                    919\n",
       "Event Label                       919\n",
       "Event Action                      919\n",
       "Total Events                      919\n",
       "Program                           919\n",
       "Video Name                        985\n",
       "TP Media ID                       985\n",
       "Video Type                        985\n",
       "Platform                            0\n",
       "Station                             0\n",
       "Device_mobile                       0\n",
       "Device_tablet                       0\n",
       "Operating System_Android            0\n",
       "Operating System_Chrome OS          0\n",
       "Operating System_Linux              0\n",
       "Operating System_Macintosh          0\n",
       "Operating System_Tizen              0\n",
       "Operating System_Windows            0\n",
       "Operating System_iOS                0\n",
       "Segment - Signed In_True            0\n",
       "Segment - Streaming User_True       0\n",
       "Segment - LiveStream User_True      0\n",
       "Segment - Passport User_True        0\n",
       "dtype: int64"
      ]
     },
     "execution_count": 20,
     "metadata": {},
     "output_type": "execute_result"
    }
   ],
   "source": [
    "#Replace 214 missing values in columns Device, Operating System and Segments with most frequent\n",
    "df_replaced_copy = df.copy()\n",
    "\n",
    "replace_with = df[\"Device\"].mode()\n",
    "df_replaced_copy[\"Device\"].fillna(replace_with[0],inplace=True)\n",
    "df_replaced_copy = pd.get_dummies(df_replaced_copy,columns=[\"Device\"],drop_first=True)\n",
    "\n",
    "replace_with = df[\"Operating System\"].mode()\n",
    "df_replaced_copy[\"Operating System\"].fillna(replace_with[0],inplace=True)\n",
    "df_replaced_copy = pd.get_dummies(df_replaced_copy,columns=[\"Operating System\"],drop_first=True)\n",
    "\n",
    "replace_with = df[\"Segment - Signed In\"].mode()\n",
    "df_replaced_copy[\"Segment - Signed In\"].fillna(replace_with[0],inplace=True)\n",
    "df_replaced_copy = pd.get_dummies(df_replaced_copy,columns=[\"Segment - Signed In\"],drop_first=True)\n",
    "\n",
    "replace_with = df[\"Segment - Streaming User\"].mode()\n",
    "df_replaced_copy[\"Segment - Streaming User\"].fillna(replace_with[0],inplace=True)\n",
    "df_replaced_copy = pd.get_dummies(df_replaced_copy,columns=[\"Segment - Streaming User\"],drop_first=True)\n",
    "\n",
    "replace_with = df[\"Segment - LiveStream User\"].mode()\n",
    "df_replaced_copy[\"Segment - LiveStream User\"].fillna(replace_with[0],inplace=True)\n",
    "df_replaced_copy = pd.get_dummies(df_replaced_copy,columns=[\"Segment - LiveStream User\"],drop_first=True)\n",
    "\n",
    "replace_with = df[\"Segment - Passport User\"].mode()\n",
    "df_replaced_copy[\"Segment - Passport User\"].fillna(replace_with[0],inplace=True)\n",
    "df_replaced_copy = pd.get_dummies(df_replaced_copy,columns=[\"Segment - Passport User\"],drop_first=True)\n",
    "\n",
    "df_replaced_copy.isna().sum()\n"
   ]
  },
  {
   "cell_type": "code",
   "execution_count": 23,
   "id": "21e878a0",
   "metadata": {},
   "outputs": [
    {
     "data": {
      "text/plain": [
       "(array([   0.,  200.,  400.,  600.,  800., 1000., 1200., 1400.]),\n",
       " [Text(0, 0, ''),\n",
       "  Text(0, 0, ''),\n",
       "  Text(0, 0, ''),\n",
       "  Text(0, 0, ''),\n",
       "  Text(0, 0, ''),\n",
       "  Text(0, 0, ''),\n",
       "  Text(0, 0, ''),\n",
       "  Text(0, 0, '')])"
      ]
     },
     "execution_count": 23,
     "metadata": {},
     "output_type": "execute_result"
    },
    {
     "data": {
      "image/png": "[encoded data removed]",
      "text/plain": [
       "<Figure size 432x288 with 1 Axes>"
      ]
     },
     "metadata": {
      "needs_background": "light"
     },
     "output_type": "display_data"
    }
   ],
   "source": [
    "#Most of the users are using PBS Mobile Apps\n",
    "plt.hist(df[\"Account\"])\n",
    "plt.xticks(fontsize=12)\n",
    "plt.yticks(fontsize=12)"
   ]
  },
  {
   "cell_type": "code",
   "execution_count": 24,
   "id": "8d9c76e0",
   "metadata": {},
   "outputs": [
    {
     "data": {
      "text/plain": [
       "([<matplotlib.patches.Wedge at 0x214270d69a0>,\n",
       "  <matplotlib.patches.Wedge at 0x214270e30d0>,\n",
       "  <matplotlib.patches.Wedge at 0x214270e3760>],\n",
       " [Text(0.046424039830598805, 1.0990199309047162, 'tablet'),\n",
       "  Text(-0.6695095570564294, -0.872786888656162, 'mobile'),\n",
       "  Text(0.9002650517798909, -0.6320781886315573, 'desktop')],\n",
       " [Text(0.02532220354396298, 0.5994654168571178, '48.7%'),\n",
       "  Text(-0.36518703112168877, -0.4760655756306338, '31.9%'),\n",
       "  Text(0.4910536646072131, -0.3447699210717585, '19.5%')])"
      ]
     },
     "execution_count": 24,
     "metadata": {},
     "output_type": "execute_result"
    },
    {
     "data": {
      "image/png": "[encoded data removed]",
      "text/plain": [
       "<Figure size 576x432 with 1 Axes>"
      ]
     },
     "metadata": {},
     "output_type": "display_data"
    }
   ],
   "source": [
    "#Most of the users are using tablet for streaming PBS shows\n",
    "plt.figure(figsize=(8, 6))\n",
    "device = df[\"Device\"].value_counts()\n",
    "plt.pie(device,labels=[\"tablet\",\"mobile\",\"desktop\"],autopct='%1.1f%%',textprops={'fontsize': 20})"
   ]
  },
  {
   "cell_type": "code",
   "execution_count": 25,
   "id": "a7a5c450",
   "metadata": {},
   "outputs": [
    {
     "data": {
      "text/plain": [
       "([<matplotlib.patches.Wedge at 0x214280ffa00>,\n",
       "  <matplotlib.patches.Wedge at 0x2142810e0d0>,\n",
       "  <matplotlib.patches.Wedge at 0x2142810e760>,\n",
       "  <matplotlib.patches.Wedge at 0x2142810edf0>,\n",
       "  <matplotlib.patches.Wedge at 0x2142811b4f0>,\n",
       "  <matplotlib.patches.Wedge at 0x2142811bb80>,\n",
       "  <matplotlib.patches.Wedge at 0x21428129250>,\n",
       "  <matplotlib.patches.Wedge at 0x214281298e0>],\n",
       " [Text(-0.21910455784595573, 1.0779578807778754, 'iOS'),\n",
       "  Text(-0.5150135349653234, -0.9719881989008518, 'Android'),\n",
       "  Text(0.5688804515484567, -0.941474923641636, '(not set)'),\n",
       "  Text(0.9302919540536303, -0.5869896764195079, 'Macintosh'),\n",
       "  Text(1.0391359729156249, -0.3608274238367948, 'Windows'),\n",
       "  Text(1.0882973397976152, -0.1600278106750014, 'Tizen'),\n",
       "  Text(1.0990199254715434, -0.04642416845268847, 'Linux'),\n",
       "  Text(1.099972771285571, -0.007739666035513499, 'Chrome OS')],\n",
       " [Text(-0.11951157700688493, 0.587977025878841, '56.4%'),\n",
       "  Text(-0.28091647361744915, -0.5301753812186464, '21.7%'),\n",
       "  Text(0.31029842811733993, -0.5135317765318014, '11.1%'),\n",
       "  Text(0.5074319749383437, -0.32017618713791335, '3.7%'),\n",
       "  Text(0.5668014397721589, -0.1968149584564335, '3.6%'),\n",
       "  Text(0.5936167307986991, -0.08728789673181894, '2.4%'),\n",
       "  Text(0.599465413893569, -0.025322273701466436, '0.9%'),\n",
       "  Text(0.5999851479739478, -0.004221636019370999, '0.2%')])"
      ]
     },
     "execution_count": 25,
     "metadata": {},
     "output_type": "execute_result"
    },
    {
     "data": {
      "image/png": "[encoded data removed]",
      "text/plain": [
       "<Figure size 576x432 with 1 Axes>"
      ]
     },
     "metadata": {},
     "output_type": "display_data"
    }
   ],
   "source": [
    "#iOS is dominant operative system used in PBS shows streaming\n",
    "plt.figure(figsize=(8, 6))\n",
    "device = df[\"Operating System\"].value_counts()\n",
    "plt.pie(device,labels=[\"iOS\",\"Android\",\"(not set)\",\"Macintosh\",\"Windows\",\"Tizen\",\"Linux\",\"Chrome OS\"],autopct='%1.1f%%',textprops={'fontsize': 12})"
   ]
  },
  {
   "cell_type": "code",
   "execution_count": 318,
   "id": "d9b4c72d",
   "metadata": {},
   "outputs": [],
   "source": [
    "#Creating function to get Most Ussed Accounts in Each Country\n",
    "states = ['United States', 'United Kingdom', 'Guam', 'Germany',\n",
    "       'Netherlands', 'Canada', 'Japan', 'Mexico', 'Sweden', 'Belgium',\n",
    "       'India', 'Romania']\n",
    "def condition_for_geo(df):\n",
    "    dic = {}\n",
    "    for i in states: \n",
    "        account_per_country = df[df[\"Country\"] == i][\"Account\"].sort_values(ascending=False).value_counts()\n",
    "        account_per_country = account_per_country.to_dict()\n",
    "        l = list(account_per_country.keys())[0]\n",
    "        dic[i] = str(l)\n",
    "    return dic\n",
    "dic = condition_for_geo(df)  "
   ]
  },
  {
   "cell_type": "code",
   "execution_count": 319,
   "id": "b585541b",
   "metadata": {},
   "outputs": [
    {
     "data": {
      "text/plain": [
       "{'United States': 'PBS Mobile Apps',\n",
       " 'United Kingdom': '*www.pbs.org',\n",
       " 'Guam': 'PBS OTT Apps',\n",
       " 'Germany': '*www.pbs.org',\n",
       " 'Netherlands': '*www.pbs.org',\n",
       " 'Canada': 'PBS Mobile Apps',\n",
       " 'Japan': '*www.pbs.org',\n",
       " 'Mexico': '*www.pbs.org',\n",
       " 'Sweden': 'PBS Mobile Apps',\n",
       " 'Belgium': '*www.pbs.org',\n",
       " 'India': '*www.pbs.org',\n",
       " 'Romania': '*www.pbs.org'}"
      ]
     },
     "execution_count": 319,
     "metadata": {},
     "output_type": "execute_result"
    }
   ],
   "source": [
    "dic"
   ]
  },
  {
   "cell_type": "code",
   "execution_count": 320,
   "id": "d6901c4b",
   "metadata": {},
   "outputs": [
    {
     "data": {
      "application/vnd.plotly.v1+json": {
       "config": {
        "plotlyServerURL": "https://plot.ly"
       },
       "data": [
        {
         "colorbar": {
          "title": {
           "text": "PBS Accounts"
          }
         },
         "colorscale": [
          [
           0,
           "rgb(12,51,131)"
          ],
          [
           0.25,
           "rgb(10,136,186)"
          ],
          [
           0.5,
           "rgb(242,211,56)"
          ],
          [
           0.75,
           "rgb(242,143,56)"
          ],
          [
           1,
           "rgb(217,30,30)"
          ]
         ],
         "locationmode": "country names",
         "locations": [
          "United States",
          "United Kingdom",
          "Guam",
          "Germany",
          "Netherlands",
          "Canada",
          "Japan",
          "Mexico",
          "Sweden",
          "Belgium",
          "India",
          "Romania"
         ],
         "text": [
          "PBS Mobile Apps",
          "*www.pbs.org",
          "PBS OTT Apps",
          "*www.pbs.org",
          "*www.pbs.org",
          "PBS Mobile Apps",
          "*www.pbs.org",
          "*www.pbs.org",
          "PBS Mobile Apps",
          "*www.pbs.org",
          "*www.pbs.org",
          "*www.pbs.org"
         ],
         "type": "choropleth",
         "z": [
          3,
          2,
          1,
          2,
          2,
          3,
          2,
          2,
          3,
          2,
          2,
          2
         ]
        }
       ],
       "layout": {
        "geo": {
         "scope": "world"
        },
        "template": {
         "data": {
          "bar": [
           {
            "error_x": {
             "color": "#2a3f5f"
            },
            "error_y": {
             "color": "#2a3f5f"
            },
            "marker": {
             "line": {
              "color": "#E5ECF6",
              "width": 0.5
             },
             "pattern": {
              "fillmode": "overlay",
              "size": 10,
              "solidity": 0.2
             }
            },
            "type": "bar"
           }
          ],
          "barpolar": [
           {
            "marker": {
             "line": {
              "color": "#E5ECF6",
              "width": 0.5
             },
             "pattern": {
              "fillmode": "overlay",
              "size": 10,
              "solidity": 0.2
             }
            },
            "type": "barpolar"
           }
          ],
          "carpet": [
           {
            "aaxis": {
             "endlinecolor": "#2a3f5f",
             "gridcolor": "white",
             "linecolor": "white",
             "minorgridcolor": "white",
             "startlinecolor": "#2a3f5f"
            },
            "baxis": {
             "endlinecolor": "#2a3f5f",
             "gridcolor": "white",
             "linecolor": "white",
             "minorgridcolor": "white",
             "startlinecolor": "#2a3f5f"
            },
            "type": "carpet"
           }
          ],
          "choropleth": [
           {
            "colorbar": {
             "outlinewidth": 0,
             "ticks": ""
            },
            "type": "choropleth"
           }
          ],
          "contour": [
           {
            "colorbar": {
             "outlinewidth": 0,
             "ticks": ""
            },
            "colorscale": [
             [
              0,
              "#0d0887"
             ],
             [
              0.1111111111111111,
              "#46039f"
             ],
             [
              0.2222222222222222,
              "#7201a8"
             ],
             [
              0.3333333333333333,
              "#9c179e"
             ],
             [
              0.4444444444444444,
              "#bd3786"
             ],
             [
              0.5555555555555556,
              "#d8576b"
             ],
             [
              0.6666666666666666,
              "#ed7953"
             ],
             [
              0.7777777777777778,
              "#fb9f3a"
             ],
             [
              0.8888888888888888,
              "#fdca26"
             ],
             [
              1,
              "#f0f921"
             ]
            ],
            "type": "contour"
           }
          ],
          "contourcarpet": [
           {
            "colorbar": {
             "outlinewidth": 0,
             "ticks": ""
            },
            "type": "contourcarpet"
           }
          ],
          "heatmap": [
           {
            "colorbar": {
             "outlinewidth": 0,
             "ticks": ""
            },
            "colorscale": [
             [
              0,
              "#0d0887"
             ],
             [
              0.1111111111111111,
              "#46039f"
             ],
             [
              0.2222222222222222,
              "#7201a8"
             ],
             [
              0.3333333333333333,
              "#9c179e"
             ],
             [
              0.4444444444444444,
              "#bd3786"
             ],
             [
              0.5555555555555556,
              "#d8576b"
             ],
             [
              0.6666666666666666,
              "#ed7953"
             ],
             [
              0.7777777777777778,
              "#fb9f3a"
             ],
             [
              0.8888888888888888,
              "#fdca26"
             ],
             [
              1,
              "#f0f921"
             ]
            ],
            "type": "heatmap"
           }
          ],
          "heatmapgl": [
           {
            "colorbar": {
             "outlinewidth": 0,
             "ticks": ""
            },
            "colorscale": [
             [
              0,
              "#0d0887"
             ],
             [
              0.1111111111111111,
              "#46039f"
             ],
             [
              0.2222222222222222,
              "#7201a8"
             ],
             [
              0.3333333333333333,
              "#9c179e"
             ],
             [
              0.4444444444444444,
              "#bd3786"
             ],
             [
              0.5555555555555556,
              "#d8576b"
             ],
             [
              0.6666666666666666,
              "#ed7953"
             ],
             [
              0.7777777777777778,
              "#fb9f3a"
             ],
             [
              0.8888888888888888,
              "#fdca26"
             ],
             [
              1,
              "#f0f921"
             ]
            ],
            "type": "heatmapgl"
           }
          ],
          "histogram": [
           {
            "marker": {
             "pattern": {
              "fillmode": "overlay",
              "size": 10,
              "solidity": 0.2
             }
            },
            "type": "histogram"
           }
          ],
          "histogram2d": [
           {
            "colorbar": {
             "outlinewidth": 0,
             "ticks": ""
            },
            "colorscale": [
             [
              0,
              "#0d0887"
             ],
             [
              0.1111111111111111,
              "#46039f"
             ],
             [
              0.2222222222222222,
              "#7201a8"
             ],
             [
              0.3333333333333333,
              "#9c179e"
             ],
             [
              0.4444444444444444,
              "#bd3786"
             ],
             [
              0.5555555555555556,
              "#d8576b"
             ],
             [
              0.6666666666666666,
              "#ed7953"
             ],
             [
              0.7777777777777778,
              "#fb9f3a"
             ],
             [
              0.8888888888888888,
              "#fdca26"
             ],
             [
              1,
              "#f0f921"
             ]
            ],
            "type": "histogram2d"
           }
          ],
          "histogram2dcontour": [
           {
            "colorbar": {
             "outlinewidth": 0,
             "ticks": ""
            },
            "colorscale": [
             [
              0,
              "#0d0887"
             ],
             [
              0.1111111111111111,
              "#46039f"
             ],
             [
              0.2222222222222222,
              "#7201a8"
             ],
             [
              0.3333333333333333,
              "#9c179e"
             ],
             [
              0.4444444444444444,
              "#bd3786"
             ],
             [
              0.5555555555555556,
              "#d8576b"
             ],
             [
              0.6666666666666666,
              "#ed7953"
             ],
             [
              0.7777777777777778,
              "#fb9f3a"
             ],
             [
              0.8888888888888888,
              "#fdca26"
             ],
             [
              1,
              "#f0f921"
             ]
            ],
            "type": "histogram2dcontour"
           }
          ],
          "mesh3d": [
           {
            "colorbar": {
             "outlinewidth": 0,
             "ticks": ""
            },
            "type": "mesh3d"
           }
          ],
          "parcoords": [
           {
            "line": {
             "colorbar": {
              "outlinewidth": 0,
              "ticks": ""
             }
            },
            "type": "parcoords"
           }
          ],
          "pie": [
           {
            "automargin": true,
            "type": "pie"
           }
          ],
          "scatter": [
           {
            "marker": {
             "colorbar": {
              "outlinewidth": 0,
              "ticks": ""
             }
            },
            "type": "scatter"
           }
          ],
          "scatter3d": [
           {
            "line": {
             "colorbar": {
              "outlinewidth": 0,
              "ticks": ""
             }
            },
            "marker": {
             "colorbar": {
              "outlinewidth": 0,
              "ticks": ""
             }
            },
            "type": "scatter3d"
           }
          ],
          "scattercarpet": [
           {
            "marker": {
             "colorbar": {
              "outlinewidth": 0,
              "ticks": ""
             }
            },
            "type": "scattercarpet"
           }
          ],
          "scattergeo": [
           {
            "marker": {
             "colorbar": {
              "outlinewidth": 0,
              "ticks": ""
             }
            },
            "type": "scattergeo"
           }
          ],
          "scattergl": [
           {
            "marker": {
             "colorbar": {
              "outlinewidth": 0,
              "ticks": ""
             }
            },
            "type": "scattergl"
           }
          ],
          "scattermapbox": [
           {
            "marker": {
             "colorbar": {
              "outlinewidth": 0,
              "ticks": ""
             }
            },
            "type": "scattermapbox"
           }
          ],
          "scatterpolar": [
           {
            "marker": {
             "colorbar": {
              "outlinewidth": 0,
              "ticks": ""
             }
            },
            "type": "scatterpolar"
           }
          ],
          "scatterpolargl": [
           {
            "marker": {
             "colorbar": {
              "outlinewidth": 0,
              "ticks": ""
             }
            },
            "type": "scatterpolargl"
           }
          ],
          "scatterternary": [
           {
            "marker": {
             "colorbar": {
              "outlinewidth": 0,
              "ticks": ""
             }
            },
            "type": "scatterternary"
           }
          ],
          "surface": [
           {
            "colorbar": {
             "outlinewidth": 0,
             "ticks": ""
            },
            "colorscale": [
             [
              0,
              "#0d0887"
             ],
             [
              0.1111111111111111,
              "#46039f"
             ],
             [
              0.2222222222222222,
              "#7201a8"
             ],
             [
              0.3333333333333333,
              "#9c179e"
             ],
             [
              0.4444444444444444,
              "#bd3786"
             ],
             [
              0.5555555555555556,
              "#d8576b"
             ],
             [
              0.6666666666666666,
              "#ed7953"
             ],
             [
              0.7777777777777778,
              "#fb9f3a"
             ],
             [
              0.8888888888888888,
              "#fdca26"
             ],
             [
              1,
              "#f0f921"
             ]
            ],
            "type": "surface"
           }
          ],
          "table": [
           {
            "cells": {
             "fill": {
              "color": "#EBF0F8"
             },
             "line": {
              "color": "white"
             }
            },
            "header": {
             "fill": {
              "color": "#C8D4E3"
             },
             "line": {
              "color": "white"
             }
            },
            "type": "table"
           }
          ]
         },
         "layout": {
          "annotationdefaults": {
           "arrowcolor": "#2a3f5f",
           "arrowhead": 0,
           "arrowwidth": 1
          },
          "autotypenumbers": "strict",
          "coloraxis": {
           "colorbar": {
            "outlinewidth": 0,
            "ticks": ""
           }
          },
          "colorscale": {
           "diverging": [
            [
             0,
             "#8e0152"
            ],
            [
             0.1,
             "#c51b7d"
            ],
            [
             0.2,
             "#de77ae"
            ],
            [
             0.3,
             "#f1b6da"
            ],
            [
             0.4,
             "#fde0ef"
            ],
            [
             0.5,
             "#f7f7f7"
            ],
            [
             0.6,
             "#e6f5d0"
            ],
            [
             0.7,
             "#b8e186"
            ],
            [
             0.8,
             "#7fbc41"
            ],
            [
             0.9,
             "#4d9221"
            ],
            [
             1,
             "#276419"
            ]
           ],
           "sequential": [
            [
             0,
             "#0d0887"
            ],
            [
             0.1111111111111111,
             "#46039f"
            ],
            [
             0.2222222222222222,
             "#7201a8"
            ],
            [
             0.3333333333333333,
             "#9c179e"
            ],
            [
             0.4444444444444444,
             "#bd3786"
            ],
            [
             0.5555555555555556,
             "#d8576b"
            ],
            [
             0.6666666666666666,
             "#ed7953"
            ],
            [
             0.7777777777777778,
             "#fb9f3a"
            ],
            [
             0.8888888888888888,
             "#fdca26"
            ],
            [
             1,
             "#f0f921"
            ]
           ],
           "sequentialminus": [
            [
             0,
             "#0d0887"
            ],
            [
             0.1111111111111111,
             "#46039f"
            ],
            [
             0.2222222222222222,
             "#7201a8"
            ],
            [
             0.3333333333333333,
             "#9c179e"
            ],
            [
             0.4444444444444444,
             "#bd3786"
            ],
            [
             0.5555555555555556,
             "#d8576b"
            ],
            [
             0.6666666666666666,
             "#ed7953"
            ],
            [
             0.7777777777777778,
             "#fb9f3a"
            ],
            [
             0.8888888888888888,
             "#fdca26"
            ],
            [
             1,
             "#f0f921"
            ]
           ]
          },
          "colorway": [
           "#636efa",
           "#EF553B",
           "#00cc96",
           "#ab63fa",
           "#FFA15A",
           "#19d3f3",
           "#FF6692",
           "#B6E880",
           "#FF97FF",
           "#FECB52"
          ],
          "font": {
           "color": "#2a3f5f"
          },
          "geo": {
           "bgcolor": "white",
           "lakecolor": "white",
           "landcolor": "#E5ECF6",
           "showlakes": true,
           "showland": true,
           "subunitcolor": "white"
          },
          "hoverlabel": {
           "align": "left"
          },
          "hovermode": "closest",
          "mapbox": {
           "style": "light"
          },
          "paper_bgcolor": "white",
          "plot_bgcolor": "#E5ECF6",
          "polar": {
           "angularaxis": {
            "gridcolor": "white",
            "linecolor": "white",
            "ticks": ""
           },
           "bgcolor": "#E5ECF6",
           "radialaxis": {
            "gridcolor": "white",
            "linecolor": "white",
            "ticks": ""
           }
          },
          "scene": {
           "xaxis": {
            "backgroundcolor": "#E5ECF6",
            "gridcolor": "white",
            "gridwidth": 2,
            "linecolor": "white",
            "showbackground": true,
            "ticks": "",
            "zerolinecolor": "white"
           },
           "yaxis": {
            "backgroundcolor": "#E5ECF6",
            "gridcolor": "white",
            "gridwidth": 2,
            "linecolor": "white",
            "showbackground": true,
            "ticks": "",
            "zerolinecolor": "white"
           },
           "zaxis": {
            "backgroundcolor": "#E5ECF6",
            "gridcolor": "white",
            "gridwidth": 2,
            "linecolor": "white",
            "showbackground": true,
            "ticks": "",
            "zerolinecolor": "white"
           }
          },
          "shapedefaults": {
           "line": {
            "color": "#2a3f5f"
           }
          },
          "ternary": {
           "aaxis": {
            "gridcolor": "white",
            "linecolor": "white",
            "ticks": ""
           },
           "baxis": {
            "gridcolor": "white",
            "linecolor": "white",
            "ticks": ""
           },
           "bgcolor": "#E5ECF6",
           "caxis": {
            "gridcolor": "white",
            "linecolor": "white",
            "ticks": ""
           }
          },
          "title": {
           "x": 0.05
          },
          "xaxis": {
           "automargin": true,
           "gridcolor": "white",
           "linecolor": "white",
           "ticks": "",
           "title": {
            "standoff": 15
           },
           "zerolinecolor": "white",
           "zerolinewidth": 2
          },
          "yaxis": {
           "automargin": true,
           "gridcolor": "white",
           "linecolor": "white",
           "ticks": "",
           "title": {
            "standoff": 15
           },
           "zerolinecolor": "white",
           "zerolinewidth": 2
          }
         }
        }
       }
      },
      "text/html": [
       "<div>                            <div id=\"3487bd9c-c5a8-4105-b479-dcb4120accdd\" class=\"plotly-graph-div\" style=\"height:525px; width:100%;\"></div>            <script type=\"text/javascript\">                require([\"plotly\"], function(Plotly) {                    window.PLOTLYENV=window.PLOTLYENV || {};                                    if (document.getElementById(\"3487bd9c-c5a8-4105-b479-dcb4120accdd\")) {                    Plotly.newPlot(                        \"3487bd9c-c5a8-4105-b479-dcb4120accdd\",                        [{\"colorbar\":{\"title\":{\"text\":\"PBS Accounts\"}},\"colorscale\":[[0.0,\"rgb(12,51,131)\"],[0.25,\"rgb(10,136,186)\"],[0.5,\"rgb(242,211,56)\"],[0.75,\"rgb(242,143,56)\"],[1.0,\"rgb(217,30,30)\"]],\"locationmode\":\"country names\",\"locations\":[\"United States\",\"United Kingdom\",\"Guam\",\"Germany\",\"Netherlands\",\"Canada\",\"Japan\",\"Mexico\",\"Sweden\",\"Belgium\",\"India\",\"Romania\"],\"text\":[\"PBS Mobile Apps\",\"*www.pbs.org\",\"PBS OTT Apps\",\"*www.pbs.org\",\"*www.pbs.org\",\"PBS Mobile Apps\",\"*www.pbs.org\",\"*www.pbs.org\",\"PBS Mobile Apps\",\"*www.pbs.org\",\"*www.pbs.org\",\"*www.pbs.org\"],\"type\":\"choropleth\",\"z\":[3,2,1,2,2,3,2,2,3,2,2,2]}],                        {\"geo\":{\"scope\":\"world\"},\"template\":{\"data\":{\"bar\":[{\"error_x\":{\"color\":\"#2a3f5f\"},\"error_y\":{\"color\":\"#2a3f5f\"},\"marker\":{\"line\":{\"color\":\"#E5ECF6\",\"width\":0.5},\"pattern\":{\"fillmode\":\"overlay\",\"size\":10,\"solidity\":0.2}},\"type\":\"bar\"}],\"barpolar\":[{\"marker\":{\"line\":{\"color\":\"#E5ECF6\",\"width\":0.5},\"pattern\":{\"fillmode\":\"overlay\",\"size\":10,\"solidity\":0.2}},\"type\":\"barpolar\"}],\"carpet\":[{\"aaxis\":{\"endlinecolor\":\"#2a3f5f\",\"gridcolor\":\"white\",\"linecolor\":\"white\",\"minorgridcolor\":\"white\",\"startlinecolor\":\"#2a3f5f\"},\"baxis\":{\"endlinecolor\":\"#2a3f5f\",\"gridcolor\":\"white\",\"linecolor\":\"white\",\"minorgridcolor\":\"white\",\"startlinecolor\":\"#2a3f5f\"},\"type\":\"carpet\"}],\"choropleth\":[{\"colorbar\":{\"outlinewidth\":0,\"ticks\":\"\"},\"type\":\"choropleth\"}],\"contour\":[{\"colorbar\":{\"outlinewidth\":0,\"ticks\":\"\"},\"colorscale\":[[0.0,\"#0d0887\"],[0.1111111111111111,\"#46039f\"],[0.2222222222222222,\"#7201a8\"],[0.3333333333333333,\"#9c179e\"],[0.4444444444444444,\"#bd3786\"],[0.5555555555555556,\"#d8576b\"],[0.6666666666666666,\"#ed7953\"],[0.7777777777777778,\"#fb9f3a\"],[0.8888888888888888,\"#fdca26\"],[1.0,\"#f0f921\"]],\"type\":\"contour\"}],\"contourcarpet\":[{\"colorbar\":{\"outlinewidth\":0,\"ticks\":\"\"},\"type\":\"contourcarpet\"}],\"heatmap\":[{\"colorbar\":{\"outlinewidth\":0,\"ticks\":\"\"},\"colorscale\":[[0.0,\"#0d0887\"],[0.1111111111111111,\"#46039f\"],[0.2222222222222222,\"#7201a8\"],[0.3333333333333333,\"#9c179e\"],[0.4444444444444444,\"#bd3786\"],[0.5555555555555556,\"#d8576b\"],[0.6666666666666666,\"#ed7953\"],[0.7777777777777778,\"#fb9f3a\"],[0.8888888888888888,\"#fdca26\"],[1.0,\"#f0f921\"]],\"type\":\"heatmap\"}],\"heatmapgl\":[{\"colorbar\":{\"outlinewidth\":0,\"ticks\":\"\"},\"colorscale\":[[0.0,\"#0d0887\"],[0.1111111111111111,\"#46039f\"],[0.2222222222222222,\"#7201a8\"],[0.3333333333333333,\"#9c179e\"],[0.4444444444444444,\"#bd3786\"],[0.5555555555555556,\"#d8576b\"],[0.6666666666666666,\"#ed7953\"],[0.7777777777777778,\"#fb9f3a\"],[0.8888888888888888,\"#fdca26\"],[1.0,\"#f0f921\"]],\"type\":\"heatmapgl\"}],\"histogram\":[{\"marker\":{\"pattern\":{\"fillmode\":\"overlay\",\"size\":10,\"solidity\":0.2}},\"type\":\"histogram\"}],\"histogram2d\":[{\"colorbar\":{\"outlinewidth\":0,\"ticks\":\"\"},\"colorscale\":[[0.0,\"#0d0887\"],[0.1111111111111111,\"#46039f\"],[0.2222222222222222,\"#7201a8\"],[0.3333333333333333,\"#9c179e\"],[0.4444444444444444,\"#bd3786\"],[0.5555555555555556,\"#d8576b\"],[0.6666666666666666,\"#ed7953\"],[0.7777777777777778,\"#fb9f3a\"],[0.8888888888888888,\"#fdca26\"],[1.0,\"#f0f921\"]],\"type\":\"histogram2d\"}],\"histogram2dcontour\":[{\"colorbar\":{\"outlinewidth\":0,\"ticks\":\"\"},\"colorscale\":[[0.0,\"#0d0887\"],[0.1111111111111111,\"#46039f\"],[0.2222222222222222,\"#7201a8\"],[0.3333333333333333,\"#9c179e\"],[0.4444444444444444,\"#bd3786\"],[0.5555555555555556,\"#d8576b\"],[0.6666666666666666,\"#ed7953\"],[0.7777777777777778,\"#fb9f3a\"],[0.8888888888888888,\"#fdca26\"],[1.0,\"#f0f921\"]],\"type\":\"histogram2dcontour\"}],\"mesh3d\":[{\"colorbar\":{\"outlinewidth\":0,\"ticks\":\"\"},\"type\":\"mesh3d\"}],\"parcoords\":[{\"line\":{\"colorbar\":{\"outlinewidth\":0,\"ticks\":\"\"}},\"type\":\"parcoords\"}],\"pie\":[{\"automargin\":true,\"type\":\"pie\"}],\"scatter\":[{\"marker\":{\"colorbar\":{\"outlinewidth\":0,\"ticks\":\"\"}},\"type\":\"scatter\"}],\"scatter3d\":[{\"line\":{\"colorbar\":{\"outlinewidth\":0,\"ticks\":\"\"}},\"marker\":{\"colorbar\":{\"outlinewidth\":0,\"ticks\":\"\"}},\"type\":\"scatter3d\"}],\"scattercarpet\":[{\"marker\":{\"colorbar\":{\"outlinewidth\":0,\"ticks\":\"\"}},\"type\":\"scattercarpet\"}],\"scattergeo\":[{\"marker\":{\"colorbar\":{\"outlinewidth\":0,\"ticks\":\"\"}},\"type\":\"scattergeo\"}],\"scattergl\":[{\"marker\":{\"colorbar\":{\"outlinewidth\":0,\"ticks\":\"\"}},\"type\":\"scattergl\"}],\"scattermapbox\":[{\"marker\":{\"colorbar\":{\"outlinewidth\":0,\"ticks\":\"\"}},\"type\":\"scattermapbox\"}],\"scatterpolar\":[{\"marker\":{\"colorbar\":{\"outlinewidth\":0,\"ticks\":\"\"}},\"type\":\"scatterpolar\"}],\"scatterpolargl\":[{\"marker\":{\"colorbar\":{\"outlinewidth\":0,\"ticks\":\"\"}},\"type\":\"scatterpolargl\"}],\"scatterternary\":[{\"marker\":{\"colorbar\":{\"outlinewidth\":0,\"ticks\":\"\"}},\"type\":\"scatterternary\"}],\"surface\":[{\"colorbar\":{\"outlinewidth\":0,\"ticks\":\"\"},\"colorscale\":[[0.0,\"#0d0887\"],[0.1111111111111111,\"#46039f\"],[0.2222222222222222,\"#7201a8\"],[0.3333333333333333,\"#9c179e\"],[0.4444444444444444,\"#bd3786\"],[0.5555555555555556,\"#d8576b\"],[0.6666666666666666,\"#ed7953\"],[0.7777777777777778,\"#fb9f3a\"],[0.8888888888888888,\"#fdca26\"],[1.0,\"#f0f921\"]],\"type\":\"surface\"}],\"table\":[{\"cells\":{\"fill\":{\"color\":\"#EBF0F8\"},\"line\":{\"color\":\"white\"}},\"header\":{\"fill\":{\"color\":\"#C8D4E3\"},\"line\":{\"color\":\"white\"}},\"type\":\"table\"}]},\"layout\":{\"annotationdefaults\":{\"arrowcolor\":\"#2a3f5f\",\"arrowhead\":0,\"arrowwidth\":1},\"autotypenumbers\":\"strict\",\"coloraxis\":{\"colorbar\":{\"outlinewidth\":0,\"ticks\":\"\"}},\"colorscale\":{\"diverging\":[[0,\"#8e0152\"],[0.1,\"#c51b7d\"],[0.2,\"#de77ae\"],[0.3,\"#f1b6da\"],[0.4,\"#fde0ef\"],[0.5,\"#f7f7f7\"],[0.6,\"#e6f5d0\"],[0.7,\"#b8e186\"],[0.8,\"#7fbc41\"],[0.9,\"#4d9221\"],[1,\"#276419\"]],\"sequential\":[[0.0,\"#0d0887\"],[0.1111111111111111,\"#46039f\"],[0.2222222222222222,\"#7201a8\"],[0.3333333333333333,\"#9c179e\"],[0.4444444444444444,\"#bd3786\"],[0.5555555555555556,\"#d8576b\"],[0.6666666666666666,\"#ed7953\"],[0.7777777777777778,\"#fb9f3a\"],[0.8888888888888888,\"#fdca26\"],[1.0,\"#f0f921\"]],\"sequentialminus\":[[0.0,\"#0d0887\"],[0.1111111111111111,\"#46039f\"],[0.2222222222222222,\"#7201a8\"],[0.3333333333333333,\"#9c179e\"],[0.4444444444444444,\"#bd3786\"],[0.5555555555555556,\"#d8576b\"],[0.6666666666666666,\"#ed7953\"],[0.7777777777777778,\"#fb9f3a\"],[0.8888888888888888,\"#fdca26\"],[1.0,\"#f0f921\"]]},\"colorway\":[\"#636efa\",\"#EF553B\",\"#00cc96\",\"#ab63fa\",\"#FFA15A\",\"#19d3f3\",\"#FF6692\",\"#B6E880\",\"#FF97FF\",\"#FECB52\"],\"font\":{\"color\":\"#2a3f5f\"},\"geo\":{\"bgcolor\":\"white\",\"lakecolor\":\"white\",\"landcolor\":\"#E5ECF6\",\"showlakes\":true,\"showland\":true,\"subunitcolor\":\"white\"},\"hoverlabel\":{\"align\":\"left\"},\"hovermode\":\"closest\",\"mapbox\":{\"style\":\"light\"},\"paper_bgcolor\":\"white\",\"plot_bgcolor\":\"#E5ECF6\",\"polar\":{\"angularaxis\":{\"gridcolor\":\"white\",\"linecolor\":\"white\",\"ticks\":\"\"},\"bgcolor\":\"#E5ECF6\",\"radialaxis\":{\"gridcolor\":\"white\",\"linecolor\":\"white\",\"ticks\":\"\"}},\"scene\":{\"xaxis\":{\"backgroundcolor\":\"#E5ECF6\",\"gridcolor\":\"white\",\"gridwidth\":2,\"linecolor\":\"white\",\"showbackground\":true,\"ticks\":\"\",\"zerolinecolor\":\"white\"},\"yaxis\":{\"backgroundcolor\":\"#E5ECF6\",\"gridcolor\":\"white\",\"gridwidth\":2,\"linecolor\":\"white\",\"showbackground\":true,\"ticks\":\"\",\"zerolinecolor\":\"white\"},\"zaxis\":{\"backgroundcolor\":\"#E5ECF6\",\"gridcolor\":\"white\",\"gridwidth\":2,\"linecolor\":\"white\",\"showbackground\":true,\"ticks\":\"\",\"zerolinecolor\":\"white\"}},\"shapedefaults\":{\"line\":{\"color\":\"#2a3f5f\"}},\"ternary\":{\"aaxis\":{\"gridcolor\":\"white\",\"linecolor\":\"white\",\"ticks\":\"\"},\"baxis\":{\"gridcolor\":\"white\",\"linecolor\":\"white\",\"ticks\":\"\"},\"bgcolor\":\"#E5ECF6\",\"caxis\":{\"gridcolor\":\"white\",\"linecolor\":\"white\",\"ticks\":\"\"}},\"title\":{\"x\":0.05},\"xaxis\":{\"automargin\":true,\"gridcolor\":\"white\",\"linecolor\":\"white\",\"ticks\":\"\",\"title\":{\"standoff\":15},\"zerolinecolor\":\"white\",\"zerolinewidth\":2},\"yaxis\":{\"automargin\":true,\"gridcolor\":\"white\",\"linecolor\":\"white\",\"ticks\":\"\",\"title\":{\"standoff\":15},\"zerolinecolor\":\"white\",\"zerolinewidth\":2}}}},                        {\"responsive\": true}                    ).then(function(){\n",
       "                            \n",
       "var gd = document.getElementById('3487bd9c-c5a8-4105-b479-dcb4120accdd');\n",
       "var x = new MutationObserver(function (mutations, observer) {{\n",
       "        var display = window.getComputedStyle(gd).display;\n",
       "        if (!display || display === 'none') {{\n",
       "            console.log([gd, 'removed!']);\n",
       "            Plotly.purge(gd);\n",
       "            observer.disconnect();\n",
       "        }}\n",
       "}});\n",
       "\n",
       "// Listen for the removal of the full notebook cells\n",
       "var notebookContainer = gd.closest('#notebook-container');\n",
       "if (notebookContainer) {{\n",
       "    x.observe(notebookContainer, {childList: true});\n",
       "}}\n",
       "\n",
       "// Listen for the clearing of the current output cell\n",
       "var outputEl = gd.closest('.output');\n",
       "if (outputEl) {{\n",
       "    x.observe(outputEl, {childList: true});\n",
       "}}\n",
       "\n",
       "                        })                };                });            </script>        </div>"
      ]
     },
     "metadata": {},
     "output_type": "display_data"
    }
   ],
   "source": [
    "#Most Ussed Accounts in Each Country\n",
    "choropleth_map = go.Figure(\n",
    "    data = {\n",
    "        'type':'choropleth',\n",
    "        'locationmode':'country names',        \n",
    "        'locations':['United States', 'United Kingdom', 'Guam', 'Germany', 'Netherlands', 'Canada', 'Japan', 'Mexico', 'Sweden', 'Belgium', 'India', 'Romania'],\n",
    "        'colorscale':'Portland',\n",
    "        'text':['PBS Mobile Apps', '*www.pbs.org', 'PBS OTT Apps', '*www.pbs.org', '*www.pbs.org', 'PBS Mobile Apps', '*www.pbs.org', '*www.pbs.org', 'PBS Mobile Apps', '*www.pbs.org', '*www.pbs.org', '*www.pbs.org'],\n",
    "        'z':[3,2,1,2,2,3,2,2,3,2,2,2],                  \n",
    "        'colorbar':{'title':'PBS Accounts'},\n",
    "    },     \n",
    "    layout = {\n",
    "      'geo':{\n",
    "          'scope':'world'\n",
    "      }  \n",
    "    })\n",
    "choropleth_map"
   ]
  },
  {
   "cell_type": "code",
   "execution_count": 321,
   "id": "7bae6314",
   "metadata": {},
   "outputs": [],
   "source": [
    "df1 = df[df['Device'].notna()]"
   ]
  },
  {
   "cell_type": "code",
   "execution_count": 324,
   "id": "1796498d",
   "metadata": {},
   "outputs": [],
   "source": [
    "states_for_device = ['United States', 'United Kingdom', 'Guam', 'Netherlands', 'Canada',\n",
    "       'Mexico', 'Sweden', 'Romania']"
   ]
  },
  {
   "cell_type": "code",
   "execution_count": 325,
   "id": "5467e9bd",
   "metadata": {},
   "outputs": [],
   "source": [
    "#Creating function to get Most Ussed Accounts in Each Country\n",
    "def condition_for_geo_device(df1):\n",
    "    dic = {}\n",
    "    for i in states_for_device: \n",
    "        account_per_country = df1[df1[\"Country\"] == i][\"Device\"].sort_values(ascending=False).value_counts()\n",
    "        account_per_country = account_per_country.to_dict()\n",
    "        k = list(account_per_country.keys())[0]\n",
    "        dic[i] = str(k)\n",
    "    return dic\n",
    "dic = condition_for_geo_device(df1) "
   ]
  },
  {
   "cell_type": "code",
   "execution_count": 337,
   "id": "ec323d84",
   "metadata": {},
   "outputs": [
    {
     "data": {
      "application/vnd.plotly.v1+json": {
       "config": {
        "plotlyServerURL": "https://plot.ly"
       },
       "data": [
        {
         "colorbar": {
          "title": {
           "text": "PBS Device"
          }
         },
         "colorscale": [
          [
           0,
           "rgb(12,51,131)"
          ],
          [
           0.25,
           "rgb(10,136,186)"
          ],
          [
           0.5,
           "rgb(242,211,56)"
          ],
          [
           0.75,
           "rgb(242,143,56)"
          ],
          [
           1,
           "rgb(217,30,30)"
          ]
         ],
         "locationmode": "country names",
         "locations": [
          "United States",
          "United Kingdom",
          "Guam",
          "Netherlands",
          "Canada",
          "Mexico",
          "Sweden",
          "Romania"
         ],
         "text": [
          "tablet",
          "desktop",
          "mobile",
          "mobile",
          "tablet",
          "desktop",
          "mobile",
          "desktop"
         ],
         "type": "choropleth",
         "z": [
          1,
          2,
          3,
          3,
          1,
          2,
          3,
          2
         ]
        }
       ],
       "layout": {
        "geo": {
         "scope": "world"
        },
        "template": {
         "data": {
          "bar": [
           {
            "error_x": {
             "color": "#2a3f5f"
            },
            "error_y": {
             "color": "#2a3f5f"
            },
            "marker": {
             "line": {
              "color": "#E5ECF6",
              "width": 0.5
             },
             "pattern": {
              "fillmode": "overlay",
              "size": 10,
              "solidity": 0.2
             }
            },
            "type": "bar"
           }
          ],
          "barpolar": [
           {
            "marker": {
             "line": {
              "color": "#E5ECF6",
              "width": 0.5
             },
             "pattern": {
              "fillmode": "overlay",
              "size": 10,
              "solidity": 0.2
             }
            },
            "type": "barpolar"
           }
          ],
          "carpet": [
           {
            "aaxis": {
             "endlinecolor": "#2a3f5f",
             "gridcolor": "white",
             "linecolor": "white",
             "minorgridcolor": "white",
             "startlinecolor": "#2a3f5f"
            },
            "baxis": {
             "endlinecolor": "#2a3f5f",
             "gridcolor": "white",
             "linecolor": "white",
             "minorgridcolor": "white",
             "startlinecolor": "#2a3f5f"
            },
            "type": "carpet"
           }
          ],
          "choropleth": [
           {
            "colorbar": {
             "outlinewidth": 0,
             "ticks": ""
            },
            "type": "choropleth"
           }
          ],
          "contour": [
           {
            "colorbar": {
             "outlinewidth": 0,
             "ticks": ""
            },
            "colorscale": [
             [
              0,
              "#0d0887"
             ],
             [
              0.1111111111111111,
              "#46039f"
             ],
             [
              0.2222222222222222,
              "#7201a8"
             ],
             [
              0.3333333333333333,
              "#9c179e"
             ],
             [
              0.4444444444444444,
              "#bd3786"
             ],
             [
              0.5555555555555556,
              "#d8576b"
             ],
             [
              0.6666666666666666,
              "#ed7953"
             ],
             [
              0.7777777777777778,
              "#fb9f3a"
             ],
             [
              0.8888888888888888,
              "#fdca26"
             ],
             [
              1,
              "#f0f921"
             ]
            ],
            "type": "contour"
           }
          ],
          "contourcarpet": [
           {
            "colorbar": {
             "outlinewidth": 0,
             "ticks": ""
            },
            "type": "contourcarpet"
           }
          ],
          "heatmap": [
           {
            "colorbar": {
             "outlinewidth": 0,
             "ticks": ""
            },
            "colorscale": [
             [
              0,
              "#0d0887"
             ],
             [
              0.1111111111111111,
              "#46039f"
             ],
             [
              0.2222222222222222,
              "#7201a8"
             ],
             [
              0.3333333333333333,
              "#9c179e"
             ],
             [
              0.4444444444444444,
              "#bd3786"
             ],
             [
              0.5555555555555556,
              "#d8576b"
             ],
             [
              0.6666666666666666,
              "#ed7953"
             ],
             [
              0.7777777777777778,
              "#fb9f3a"
             ],
             [
              0.8888888888888888,
              "#fdca26"
             ],
             [
              1,
              "#f0f921"
             ]
            ],
            "type": "heatmap"
           }
          ],
          "heatmapgl": [
           {
            "colorbar": {
             "outlinewidth": 0,
             "ticks": ""
            },
            "colorscale": [
             [
              0,
              "#0d0887"
             ],
             [
              0.1111111111111111,
              "#46039f"
             ],
             [
              0.2222222222222222,
              "#7201a8"
             ],
             [
              0.3333333333333333,
              "#9c179e"
             ],
             [
              0.4444444444444444,
              "#bd3786"
             ],
             [
              0.5555555555555556,
              "#d8576b"
             ],
             [
              0.6666666666666666,
              "#ed7953"
             ],
             [
              0.7777777777777778,
              "#fb9f3a"
             ],
             [
              0.8888888888888888,
              "#fdca26"
             ],
             [
              1,
              "#f0f921"
             ]
            ],
            "type": "heatmapgl"
           }
          ],
          "histogram": [
           {
            "marker": {
             "pattern": {
              "fillmode": "overlay",
              "size": 10,
              "solidity": 0.2
             }
            },
            "type": "histogram"
           }
          ],
          "histogram2d": [
           {
            "colorbar": {
             "outlinewidth": 0,
             "ticks": ""
            },
            "colorscale": [
             [
              0,
              "#0d0887"
             ],
             [
              0.1111111111111111,
              "#46039f"
             ],
             [
              0.2222222222222222,
              "#7201a8"
             ],
             [
              0.3333333333333333,
              "#9c179e"
             ],
             [
              0.4444444444444444,
              "#bd3786"
             ],
             [
              0.5555555555555556,
              "#d8576b"
             ],
             [
              0.6666666666666666,
              "#ed7953"
             ],
             [
              0.7777777777777778,
              "#fb9f3a"
             ],
             [
              0.8888888888888888,
              "#fdca26"
             ],
             [
              1,
              "#f0f921"
             ]
            ],
            "type": "histogram2d"
           }
          ],
          "histogram2dcontour": [
           {
            "colorbar": {
             "outlinewidth": 0,
             "ticks": ""
            },
            "colorscale": [
             [
              0,
              "#0d0887"
             ],
             [
              0.1111111111111111,
              "#46039f"
             ],
             [
              0.2222222222222222,
              "#7201a8"
             ],
             [
              0.3333333333333333,
              "#9c179e"
             ],
             [
              0.4444444444444444,
              "#bd3786"
             ],
             [
              0.5555555555555556,
              "#d8576b"
             ],
             [
              0.6666666666666666,
              "#ed7953"
             ],
             [
              0.7777777777777778,
              "#fb9f3a"
             ],
             [
              0.8888888888888888,
              "#fdca26"
             ],
             [
              1,
              "#f0f921"
             ]
            ],
            "type": "histogram2dcontour"
           }
          ],
          "mesh3d": [
           {
            "colorbar": {
             "outlinewidth": 0,
             "ticks": ""
            },
            "type": "mesh3d"
           }
          ],
          "parcoords": [
           {
            "line": {
             "colorbar": {
              "outlinewidth": 0,
              "ticks": ""
             }
            },
            "type": "parcoords"
           }
          ],
          "pie": [
           {
            "automargin": true,
            "type": "pie"
           }
          ],
          "scatter": [
           {
            "marker": {
             "colorbar": {
              "outlinewidth": 0,
              "ticks": ""
             }
            },
            "type": "scatter"
           }
          ],
          "scatter3d": [
           {
            "line": {
             "colorbar": {
              "outlinewidth": 0,
              "ticks": ""
             }
            },
            "marker": {
             "colorbar": {
              "outlinewidth": 0,
              "ticks": ""
             }
            },
            "type": "scatter3d"
           }
          ],
          "scattercarpet": [
           {
            "marker": {
             "colorbar": {
              "outlinewidth": 0,
              "ticks": ""
             }
            },
            "type": "scattercarpet"
           }
          ],
          "scattergeo": [
           {
            "marker": {
             "colorbar": {
              "outlinewidth": 0,
              "ticks": ""
             }
            },
            "type": "scattergeo"
           }
          ],
          "scattergl": [
           {
            "marker": {
             "colorbar": {
              "outlinewidth": 0,
              "ticks": ""
             }
            },
            "type": "scattergl"
           }
          ],
          "scattermapbox": [
           {
            "marker": {
             "colorbar": {
              "outlinewidth": 0,
              "ticks": ""
             }
            },
            "type": "scattermapbox"
           }
          ],
          "scatterpolar": [
           {
            "marker": {
             "colorbar": {
              "outlinewidth": 0,
              "ticks": ""
             }
            },
            "type": "scatterpolar"
           }
          ],
          "scatterpolargl": [
           {
            "marker": {
             "colorbar": {
              "outlinewidth": 0,
              "ticks": ""
             }
            },
            "type": "scatterpolargl"
           }
          ],
          "scatterternary": [
           {
            "marker": {
             "colorbar": {
              "outlinewidth": 0,
              "ticks": ""
             }
            },
            "type": "scatterternary"
           }
          ],
          "surface": [
           {
            "colorbar": {
             "outlinewidth": 0,
             "ticks": ""
            },
            "colorscale": [
             [
              0,
              "#0d0887"
             ],
             [
              0.1111111111111111,
              "#46039f"
             ],
             [
              0.2222222222222222,
              "#7201a8"
             ],
             [
              0.3333333333333333,
              "#9c179e"
             ],
             [
              0.4444444444444444,
              "#bd3786"
             ],
             [
              0.5555555555555556,
              "#d8576b"
             ],
             [
              0.6666666666666666,
              "#ed7953"
             ],
             [
              0.7777777777777778,
              "#fb9f3a"
             ],
             [
              0.8888888888888888,
              "#fdca26"
             ],
             [
              1,
              "#f0f921"
             ]
            ],
            "type": "surface"
           }
          ],
          "table": [
           {
            "cells": {
             "fill": {
              "color": "#EBF0F8"
             },
             "line": {
              "color": "white"
             }
            },
            "header": {
             "fill": {
              "color": "#C8D4E3"
             },
             "line": {
              "color": "white"
             }
            },
            "type": "table"
           }
          ]
         },
         "layout": {
          "annotationdefaults": {
           "arrowcolor": "#2a3f5f",
           "arrowhead": 0,
           "arrowwidth": 1
          },
          "autotypenumbers": "strict",
          "coloraxis": {
           "colorbar": {
            "outlinewidth": 0,
            "ticks": ""
           }
          },
          "colorscale": {
           "diverging": [
            [
             0,
             "#8e0152"
            ],
            [
             0.1,
             "#c51b7d"
            ],
            [
             0.2,
             "#de77ae"
            ],
            [
             0.3,
             "#f1b6da"
            ],
            [
             0.4,
             "#fde0ef"
            ],
            [
             0.5,
             "#f7f7f7"
            ],
            [
             0.6,
             "#e6f5d0"
            ],
            [
             0.7,
             "#b8e186"
            ],
            [
             0.8,
             "#7fbc41"
            ],
            [
             0.9,
             "#4d9221"
            ],
            [
             1,
             "#276419"
            ]
           ],
           "sequential": [
            [
             0,
             "#0d0887"
            ],
            [
             0.1111111111111111,
             "#46039f"
            ],
            [
             0.2222222222222222,
             "#7201a8"
            ],
            [
             0.3333333333333333,
             "#9c179e"
            ],
            [
             0.4444444444444444,
             "#bd3786"
            ],
            [
             0.5555555555555556,
             "#d8576b"
            ],
            [
             0.6666666666666666,
             "#ed7953"
            ],
            [
             0.7777777777777778,
             "#fb9f3a"
            ],
            [
             0.8888888888888888,
             "#fdca26"
            ],
            [
             1,
             "#f0f921"
            ]
           ],
           "sequentialminus": [
            [
             0,
             "#0d0887"
            ],
            [
             0.1111111111111111,
             "#46039f"
            ],
            [
             0.2222222222222222,
             "#7201a8"
            ],
            [
             0.3333333333333333,
             "#9c179e"
            ],
            [
             0.4444444444444444,
             "#bd3786"
            ],
            [
             0.5555555555555556,
             "#d8576b"
            ],
            [
             0.6666666666666666,
             "#ed7953"
            ],
            [
             0.7777777777777778,
             "#fb9f3a"
            ],
            [
             0.8888888888888888,
             "#fdca26"
            ],
            [
             1,
             "#f0f921"
            ]
           ]
          },
          "colorway": [
           "#636efa",
           "#EF553B",
           "#00cc96",
           "#ab63fa",
           "#FFA15A",
           "#19d3f3",
           "#FF6692",
           "#B6E880",
           "#FF97FF",
           "#FECB52"
          ],
          "font": {
           "color": "#2a3f5f"
          },
          "geo": {
           "bgcolor": "white",
           "lakecolor": "white",
           "landcolor": "#E5ECF6",
           "showlakes": true,
           "showland": true,
           "subunitcolor": "white"
          },
          "hoverlabel": {
           "align": "left"
          },
          "hovermode": "closest",
          "mapbox": {
           "style": "light"
          },
          "paper_bgcolor": "white",
          "plot_bgcolor": "#E5ECF6",
          "polar": {
           "angularaxis": {
            "gridcolor": "white",
            "linecolor": "white",
            "ticks": ""
           },
           "bgcolor": "#E5ECF6",
           "radialaxis": {
            "gridcolor": "white",
            "linecolor": "white",
            "ticks": ""
           }
          },
          "scene": {
           "xaxis": {
            "backgroundcolor": "#E5ECF6",
            "gridcolor": "white",
            "gridwidth": 2,
            "linecolor": "white",
            "showbackground": true,
            "ticks": "",
            "zerolinecolor": "white"
           },
           "yaxis": {
            "backgroundcolor": "#E5ECF6",
            "gridcolor": "white",
            "gridwidth": 2,
            "linecolor": "white",
            "showbackground": true,
            "ticks": "",
            "zerolinecolor": "white"
           },
           "zaxis": {
            "backgroundcolor": "#E5ECF6",
            "gridcolor": "white",
            "gridwidth": 2,
            "linecolor": "white",
            "showbackground": true,
            "ticks": "",
            "zerolinecolor": "white"
           }
          },
          "shapedefaults": {
           "line": {
            "color": "#2a3f5f"
           }
          },
          "ternary": {
           "aaxis": {
            "gridcolor": "white",
            "linecolor": "white",
            "ticks": ""
           },
           "baxis": {
            "gridcolor": "white",
            "linecolor": "white",
            "ticks": ""
           },
           "bgcolor": "#E5ECF6",
           "caxis": {
            "gridcolor": "white",
            "linecolor": "white",
            "ticks": ""
           }
          },
          "title": {
           "x": 0.05
          },
          "xaxis": {
           "automargin": true,
           "gridcolor": "white",
           "linecolor": "white",
           "ticks": "",
           "title": {
            "standoff": 15
           },
           "zerolinecolor": "white",
           "zerolinewidth": 2
          },
          "yaxis": {
           "automargin": true,
           "gridcolor": "white",
           "linecolor": "white",
           "ticks": "",
           "title": {
            "standoff": 15
           },
           "zerolinecolor": "white",
           "zerolinewidth": 2
          }
         }
        }
       }
      },
      "text/html": [
       "<div>                            <div id=\"3f24b71e-27e4-4600-8447-139655eb0155\" class=\"plotly-graph-div\" style=\"height:525px; width:100%;\"></div>            <script type=\"text/javascript\">                require([\"plotly\"], function(Plotly) {                    window.PLOTLYENV=window.PLOTLYENV || {};                                    if (document.getElementById(\"3f24b71e-27e4-4600-8447-139655eb0155\")) {                    Plotly.newPlot(                        \"3f24b71e-27e4-4600-8447-139655eb0155\",                        [{\"colorbar\":{\"title\":{\"text\":\"PBS Device\"}},\"colorscale\":[[0.0,\"rgb(12,51,131)\"],[0.25,\"rgb(10,136,186)\"],[0.5,\"rgb(242,211,56)\"],[0.75,\"rgb(242,143,56)\"],[1.0,\"rgb(217,30,30)\"]],\"locationmode\":\"country names\",\"locations\":[\"United States\",\"United Kingdom\",\"Guam\",\"Netherlands\",\"Canada\",\"Mexico\",\"Sweden\",\"Romania\"],\"text\":[\"tablet\",\"desktop\",\"mobile\",\"mobile\",\"tablet\",\"desktop\",\"mobile\",\"desktop\"],\"type\":\"choropleth\",\"z\":[1,2,3,3,1,2,3,2]}],                        {\"geo\":{\"scope\":\"world\"},\"template\":{\"data\":{\"bar\":[{\"error_x\":{\"color\":\"#2a3f5f\"},\"error_y\":{\"color\":\"#2a3f5f\"},\"marker\":{\"line\":{\"color\":\"#E5ECF6\",\"width\":0.5},\"pattern\":{\"fillmode\":\"overlay\",\"size\":10,\"solidity\":0.2}},\"type\":\"bar\"}],\"barpolar\":[{\"marker\":{\"line\":{\"color\":\"#E5ECF6\",\"width\":0.5},\"pattern\":{\"fillmode\":\"overlay\",\"size\":10,\"solidity\":0.2}},\"type\":\"barpolar\"}],\"carpet\":[{\"aaxis\":{\"endlinecolor\":\"#2a3f5f\",\"gridcolor\":\"white\",\"linecolor\":\"white\",\"minorgridcolor\":\"white\",\"startlinecolor\":\"#2a3f5f\"},\"baxis\":{\"endlinecolor\":\"#2a3f5f\",\"gridcolor\":\"white\",\"linecolor\":\"white\",\"minorgridcolor\":\"white\",\"startlinecolor\":\"#2a3f5f\"},\"type\":\"carpet\"}],\"choropleth\":[{\"colorbar\":{\"outlinewidth\":0,\"ticks\":\"\"},\"type\":\"choropleth\"}],\"contour\":[{\"colorbar\":{\"outlinewidth\":0,\"ticks\":\"\"},\"colorscale\":[[0.0,\"#0d0887\"],[0.1111111111111111,\"#46039f\"],[0.2222222222222222,\"#7201a8\"],[0.3333333333333333,\"#9c179e\"],[0.4444444444444444,\"#bd3786\"],[0.5555555555555556,\"#d8576b\"],[0.6666666666666666,\"#ed7953\"],[0.7777777777777778,\"#fb9f3a\"],[0.8888888888888888,\"#fdca26\"],[1.0,\"#f0f921\"]],\"type\":\"contour\"}],\"contourcarpet\":[{\"colorbar\":{\"outlinewidth\":0,\"ticks\":\"\"},\"type\":\"contourcarpet\"}],\"heatmap\":[{\"colorbar\":{\"outlinewidth\":0,\"ticks\":\"\"},\"colorscale\":[[0.0,\"#0d0887\"],[0.1111111111111111,\"#46039f\"],[0.2222222222222222,\"#7201a8\"],[0.3333333333333333,\"#9c179e\"],[0.4444444444444444,\"#bd3786\"],[0.5555555555555556,\"#d8576b\"],[0.6666666666666666,\"#ed7953\"],[0.7777777777777778,\"#fb9f3a\"],[0.8888888888888888,\"#fdca26\"],[1.0,\"#f0f921\"]],\"type\":\"heatmap\"}],\"heatmapgl\":[{\"colorbar\":{\"outlinewidth\":0,\"ticks\":\"\"},\"colorscale\":[[0.0,\"#0d0887\"],[0.1111111111111111,\"#46039f\"],[0.2222222222222222,\"#7201a8\"],[0.3333333333333333,\"#9c179e\"],[0.4444444444444444,\"#bd3786\"],[0.5555555555555556,\"#d8576b\"],[0.6666666666666666,\"#ed7953\"],[0.7777777777777778,\"#fb9f3a\"],[0.8888888888888888,\"#fdca26\"],[1.0,\"#f0f921\"]],\"type\":\"heatmapgl\"}],\"histogram\":[{\"marker\":{\"pattern\":{\"fillmode\":\"overlay\",\"size\":10,\"solidity\":0.2}},\"type\":\"histogram\"}],\"histogram2d\":[{\"colorbar\":{\"outlinewidth\":0,\"ticks\":\"\"},\"colorscale\":[[0.0,\"#0d0887\"],[0.1111111111111111,\"#46039f\"],[0.2222222222222222,\"#7201a8\"],[0.3333333333333333,\"#9c179e\"],[0.4444444444444444,\"#bd3786\"],[0.5555555555555556,\"#d8576b\"],[0.6666666666666666,\"#ed7953\"],[0.7777777777777778,\"#fb9f3a\"],[0.8888888888888888,\"#fdca26\"],[1.0,\"#f0f921\"]],\"type\":\"histogram2d\"}],\"histogram2dcontour\":[{\"colorbar\":{\"outlinewidth\":0,\"ticks\":\"\"},\"colorscale\":[[0.0,\"#0d0887\"],[0.1111111111111111,\"#46039f\"],[0.2222222222222222,\"#7201a8\"],[0.3333333333333333,\"#9c179e\"],[0.4444444444444444,\"#bd3786\"],[0.5555555555555556,\"#d8576b\"],[0.6666666666666666,\"#ed7953\"],[0.7777777777777778,\"#fb9f3a\"],[0.8888888888888888,\"#fdca26\"],[1.0,\"#f0f921\"]],\"type\":\"histogram2dcontour\"}],\"mesh3d\":[{\"colorbar\":{\"outlinewidth\":0,\"ticks\":\"\"},\"type\":\"mesh3d\"}],\"parcoords\":[{\"line\":{\"colorbar\":{\"outlinewidth\":0,\"ticks\":\"\"}},\"type\":\"parcoords\"}],\"pie\":[{\"automargin\":true,\"type\":\"pie\"}],\"scatter\":[{\"marker\":{\"colorbar\":{\"outlinewidth\":0,\"ticks\":\"\"}},\"type\":\"scatter\"}],\"scatter3d\":[{\"line\":{\"colorbar\":{\"outlinewidth\":0,\"ticks\":\"\"}},\"marker\":{\"colorbar\":{\"outlinewidth\":0,\"ticks\":\"\"}},\"type\":\"scatter3d\"}],\"scattercarpet\":[{\"marker\":{\"colorbar\":{\"outlinewidth\":0,\"ticks\":\"\"}},\"type\":\"scattercarpet\"}],\"scattergeo\":[{\"marker\":{\"colorbar\":{\"outlinewidth\":0,\"ticks\":\"\"}},\"type\":\"scattergeo\"}],\"scattergl\":[{\"marker\":{\"colorbar\":{\"outlinewidth\":0,\"ticks\":\"\"}},\"type\":\"scattergl\"}],\"scattermapbox\":[{\"marker\":{\"colorbar\":{\"outlinewidth\":0,\"ticks\":\"\"}},\"type\":\"scattermapbox\"}],\"scatterpolar\":[{\"marker\":{\"colorbar\":{\"outlinewidth\":0,\"ticks\":\"\"}},\"type\":\"scatterpolar\"}],\"scatterpolargl\":[{\"marker\":{\"colorbar\":{\"outlinewidth\":0,\"ticks\":\"\"}},\"type\":\"scatterpolargl\"}],\"scatterternary\":[{\"marker\":{\"colorbar\":{\"outlinewidth\":0,\"ticks\":\"\"}},\"type\":\"scatterternary\"}],\"surface\":[{\"colorbar\":{\"outlinewidth\":0,\"ticks\":\"\"},\"colorscale\":[[0.0,\"#0d0887\"],[0.1111111111111111,\"#46039f\"],[0.2222222222222222,\"#7201a8\"],[0.3333333333333333,\"#9c179e\"],[0.4444444444444444,\"#bd3786\"],[0.5555555555555556,\"#d8576b\"],[0.6666666666666666,\"#ed7953\"],[0.7777777777777778,\"#fb9f3a\"],[0.8888888888888888,\"#fdca26\"],[1.0,\"#f0f921\"]],\"type\":\"surface\"}],\"table\":[{\"cells\":{\"fill\":{\"color\":\"#EBF0F8\"},\"line\":{\"color\":\"white\"}},\"header\":{\"fill\":{\"color\":\"#C8D4E3\"},\"line\":{\"color\":\"white\"}},\"type\":\"table\"}]},\"layout\":{\"annotationdefaults\":{\"arrowcolor\":\"#2a3f5f\",\"arrowhead\":0,\"arrowwidth\":1},\"autotypenumbers\":\"strict\",\"coloraxis\":{\"colorbar\":{\"outlinewidth\":0,\"ticks\":\"\"}},\"colorscale\":{\"diverging\":[[0,\"#8e0152\"],[0.1,\"#c51b7d\"],[0.2,\"#de77ae\"],[0.3,\"#f1b6da\"],[0.4,\"#fde0ef\"],[0.5,\"#f7f7f7\"],[0.6,\"#e6f5d0\"],[0.7,\"#b8e186\"],[0.8,\"#7fbc41\"],[0.9,\"#4d9221\"],[1,\"#276419\"]],\"sequential\":[[0.0,\"#0d0887\"],[0.1111111111111111,\"#46039f\"],[0.2222222222222222,\"#7201a8\"],[0.3333333333333333,\"#9c179e\"],[0.4444444444444444,\"#bd3786\"],[0.5555555555555556,\"#d8576b\"],[0.6666666666666666,\"#ed7953\"],[0.7777777777777778,\"#fb9f3a\"],[0.8888888888888888,\"#fdca26\"],[1.0,\"#f0f921\"]],\"sequentialminus\":[[0.0,\"#0d0887\"],[0.1111111111111111,\"#46039f\"],[0.2222222222222222,\"#7201a8\"],[0.3333333333333333,\"#9c179e\"],[0.4444444444444444,\"#bd3786\"],[0.5555555555555556,\"#d8576b\"],[0.6666666666666666,\"#ed7953\"],[0.7777777777777778,\"#fb9f3a\"],[0.8888888888888888,\"#fdca26\"],[1.0,\"#f0f921\"]]},\"colorway\":[\"#636efa\",\"#EF553B\",\"#00cc96\",\"#ab63fa\",\"#FFA15A\",\"#19d3f3\",\"#FF6692\",\"#B6E880\",\"#FF97FF\",\"#FECB52\"],\"font\":{\"color\":\"#2a3f5f\"},\"geo\":{\"bgcolor\":\"white\",\"lakecolor\":\"white\",\"landcolor\":\"#E5ECF6\",\"showlakes\":true,\"showland\":true,\"subunitcolor\":\"white\"},\"hoverlabel\":{\"align\":\"left\"},\"hovermode\":\"closest\",\"mapbox\":{\"style\":\"light\"},\"paper_bgcolor\":\"white\",\"plot_bgcolor\":\"#E5ECF6\",\"polar\":{\"angularaxis\":{\"gridcolor\":\"white\",\"linecolor\":\"white\",\"ticks\":\"\"},\"bgcolor\":\"#E5ECF6\",\"radialaxis\":{\"gridcolor\":\"white\",\"linecolor\":\"white\",\"ticks\":\"\"}},\"scene\":{\"xaxis\":{\"backgroundcolor\":\"#E5ECF6\",\"gridcolor\":\"white\",\"gridwidth\":2,\"linecolor\":\"white\",\"showbackground\":true,\"ticks\":\"\",\"zerolinecolor\":\"white\"},\"yaxis\":{\"backgroundcolor\":\"#E5ECF6\",\"gridcolor\":\"white\",\"gridwidth\":2,\"linecolor\":\"white\",\"showbackground\":true,\"ticks\":\"\",\"zerolinecolor\":\"white\"},\"zaxis\":{\"backgroundcolor\":\"#E5ECF6\",\"gridcolor\":\"white\",\"gridwidth\":2,\"linecolor\":\"white\",\"showbackground\":true,\"ticks\":\"\",\"zerolinecolor\":\"white\"}},\"shapedefaults\":{\"line\":{\"color\":\"#2a3f5f\"}},\"ternary\":{\"aaxis\":{\"gridcolor\":\"white\",\"linecolor\":\"white\",\"ticks\":\"\"},\"baxis\":{\"gridcolor\":\"white\",\"linecolor\":\"white\",\"ticks\":\"\"},\"bgcolor\":\"#E5ECF6\",\"caxis\":{\"gridcolor\":\"white\",\"linecolor\":\"white\",\"ticks\":\"\"}},\"title\":{\"x\":0.05},\"xaxis\":{\"automargin\":true,\"gridcolor\":\"white\",\"linecolor\":\"white\",\"ticks\":\"\",\"title\":{\"standoff\":15},\"zerolinecolor\":\"white\",\"zerolinewidth\":2},\"yaxis\":{\"automargin\":true,\"gridcolor\":\"white\",\"linecolor\":\"white\",\"ticks\":\"\",\"title\":{\"standoff\":15},\"zerolinecolor\":\"white\",\"zerolinewidth\":2}}}},                        {\"responsive\": true}                    ).then(function(){\n",
       "                            \n",
       "var gd = document.getElementById('3f24b71e-27e4-4600-8447-139655eb0155');\n",
       "var x = new MutationObserver(function (mutations, observer) {{\n",
       "        var display = window.getComputedStyle(gd).display;\n",
       "        if (!display || display === 'none') {{\n",
       "            console.log([gd, 'removed!']);\n",
       "            Plotly.purge(gd);\n",
       "            observer.disconnect();\n",
       "        }}\n",
       "}});\n",
       "\n",
       "// Listen for the removal of the full notebook cells\n",
       "var notebookContainer = gd.closest('#notebook-container');\n",
       "if (notebookContainer) {{\n",
       "    x.observe(notebookContainer, {childList: true});\n",
       "}}\n",
       "\n",
       "// Listen for the clearing of the current output cell\n",
       "var outputEl = gd.closest('.output');\n",
       "if (outputEl) {{\n",
       "    x.observe(outputEl, {childList: true});\n",
       "}}\n",
       "\n",
       "                        })                };                });            </script>        </div>"
      ]
     },
     "metadata": {},
     "output_type": "display_data"
    }
   ],
   "source": [
    "#Creating function to get Most Ussed Device in Each Country\n",
    "def condition_for_geo_device(df1):\n",
    "    dic = {}\n",
    "    for i in states_for_device: \n",
    "        account_per_country = df1[df1[\"Country\"] == i][\"Device\"].sort_values(ascending=False).value_counts()\n",
    "        account_per_country = account_per_country.to_dict()\n",
    "        k = list(account_per_country.keys())[0]\n",
    "        dic[i] = str(k)\n",
    "    return dic\n",
    "dic = condition_for_geo_device(df1) \n",
    "\n",
    "\n",
    "#Most Ussed Device in Each Country\n",
    "choropleth_map = go.Figure(\n",
    "    data = {\n",
    "        'type':'choropleth',\n",
    "        'locationmode':'country names',        \n",
    "        'locations':['United States', 'United Kingdom', 'Guam', 'Netherlands', 'Canada', 'Mexico', 'Sweden', 'Romania'],\n",
    "        'colorscale':'Portland',\n",
    "        'text':['tablet', 'desktop', 'mobile', 'mobile', 'tablet', 'desktop', 'mobile', 'desktop'],\n",
    "        'z':[1,2,3,3,1,2,3,2],                  \n",
    "        'colorbar':{'title':'PBS Device'},\n",
    "    },     \n",
    "    layout = {\n",
    "      'geo':{\n",
    "          'scope':'world'\n",
    "      }  \n",
    "    })\n",
    "choropleth_map"
   ]
  },
  {
   "cell_type": "code",
   "execution_count": 338,
   "id": "b9b5bc3c",
   "metadata": {},
   "outputs": [
    {
     "data": {
      "application/vnd.plotly.v1+json": {
       "config": {
        "plotlyServerURL": "https://plot.ly"
       },
       "data": [
        {
         "colorbar": {
          "title": {
           "text": "PBS OS"
          }
         },
         "colorscale": [
          [
           0,
           "rgb(12,51,131)"
          ],
          [
           0.25,
           "rgb(10,136,186)"
          ],
          [
           0.5,
           "rgb(242,211,56)"
          ],
          [
           0.75,
           "rgb(242,143,56)"
          ],
          [
           1,
           "rgb(217,30,30)"
          ]
         ],
         "locationmode": "country names",
         "locations": [
          "United States",
          "United Kingdom",
          "Guam",
          "Netherlands",
          "Canada",
          "Mexico",
          "Sweden",
          "Romania"
         ],
         "text": [
          "iOS",
          "Macintosh",
          "Android",
          "Android",
          "iOS",
          "Macintosh",
          "iOS",
          "Windows"
         ],
         "type": "choropleth",
         "z": [
          1,
          2,
          3,
          3,
          1,
          2,
          1,
          4
         ]
        }
       ],
       "layout": {
        "geo": {
         "scope": "world"
        },
        "template": {
         "data": {
          "bar": [
           {
            "error_x": {
             "color": "#2a3f5f"
            },
            "error_y": {
             "color": "#2a3f5f"
            },
            "marker": {
             "line": {
              "color": "#E5ECF6",
              "width": 0.5
             },
             "pattern": {
              "fillmode": "overlay",
              "size": 10,
              "solidity": 0.2
             }
            },
            "type": "bar"
           }
          ],
          "barpolar": [
           {
            "marker": {
             "line": {
              "color": "#E5ECF6",
              "width": 0.5
             },
             "pattern": {
              "fillmode": "overlay",
              "size": 10,
              "solidity": 0.2
             }
            },
            "type": "barpolar"
           }
          ],
          "carpet": [
           {
            "aaxis": {
             "endlinecolor": "#2a3f5f",
             "gridcolor": "white",
             "linecolor": "white",
             "minorgridcolor": "white",
             "startlinecolor": "#2a3f5f"
            },
            "baxis": {
             "endlinecolor": "#2a3f5f",
             "gridcolor": "white",
             "linecolor": "white",
             "minorgridcolor": "white",
             "startlinecolor": "#2a3f5f"
            },
            "type": "carpet"
           }
          ],
          "choropleth": [
           {
            "colorbar": {
             "outlinewidth": 0,
             "ticks": ""
            },
            "type": "choropleth"
           }
          ],
          "contour": [
           {
            "colorbar": {
             "outlinewidth": 0,
             "ticks": ""
            },
            "colorscale": [
             [
              0,
              "#0d0887"
             ],
             [
              0.1111111111111111,
              "#46039f"
             ],
             [
              0.2222222222222222,
              "#7201a8"
             ],
             [
              0.3333333333333333,
              "#9c179e"
             ],
             [
              0.4444444444444444,
              "#bd3786"
             ],
             [
              0.5555555555555556,
              "#d8576b"
             ],
             [
              0.6666666666666666,
              "#ed7953"
             ],
             [
              0.7777777777777778,
              "#fb9f3a"
             ],
             [
              0.8888888888888888,
              "#fdca26"
             ],
             [
              1,
              "#f0f921"
             ]
            ],
            "type": "contour"
           }
          ],
          "contourcarpet": [
           {
            "colorbar": {
             "outlinewidth": 0,
             "ticks": ""
            },
            "type": "contourcarpet"
           }
          ],
          "heatmap": [
           {
            "colorbar": {
             "outlinewidth": 0,
             "ticks": ""
            },
            "colorscale": [
             [
              0,
              "#0d0887"
             ],
             [
              0.1111111111111111,
              "#46039f"
             ],
             [
              0.2222222222222222,
              "#7201a8"
             ],
             [
              0.3333333333333333,
              "#9c179e"
             ],
             [
              0.4444444444444444,
              "#bd3786"
             ],
             [
              0.5555555555555556,
              "#d8576b"
             ],
             [
              0.6666666666666666,
              "#ed7953"
             ],
             [
              0.7777777777777778,
              "#fb9f3a"
             ],
             [
              0.8888888888888888,
              "#fdca26"
             ],
             [
              1,
              "#f0f921"
             ]
            ],
            "type": "heatmap"
           }
          ],
          "heatmapgl": [
           {
            "colorbar": {
             "outlinewidth": 0,
             "ticks": ""
            },
            "colorscale": [
             [
              0,
              "#0d0887"
             ],
             [
              0.1111111111111111,
              "#46039f"
             ],
             [
              0.2222222222222222,
              "#7201a8"
             ],
             [
              0.3333333333333333,
              "#9c179e"
             ],
             [
              0.4444444444444444,
              "#bd3786"
             ],
             [
              0.5555555555555556,
              "#d8576b"
             ],
             [
              0.6666666666666666,
              "#ed7953"
             ],
             [
              0.7777777777777778,
              "#fb9f3a"
             ],
             [
              0.8888888888888888,
              "#fdca26"
             ],
             [
              1,
              "#f0f921"
             ]
            ],
            "type": "heatmapgl"
           }
          ],
          "histogram": [
           {
            "marker": {
             "pattern": {
              "fillmode": "overlay",
              "size": 10,
              "solidity": 0.2
             }
            },
            "type": "histogram"
           }
          ],
          "histogram2d": [
           {
            "colorbar": {
             "outlinewidth": 0,
             "ticks": ""
            },
            "colorscale": [
             [
              0,
              "#0d0887"
             ],
             [
              0.1111111111111111,
              "#46039f"
             ],
             [
              0.2222222222222222,
              "#7201a8"
             ],
             [
              0.3333333333333333,
              "#9c179e"
             ],
             [
              0.4444444444444444,
              "#bd3786"
             ],
             [
              0.5555555555555556,
              "#d8576b"
             ],
             [
              0.6666666666666666,
              "#ed7953"
             ],
             [
              0.7777777777777778,
              "#fb9f3a"
             ],
             [
              0.8888888888888888,
              "#fdca26"
             ],
             [
              1,
              "#f0f921"
             ]
            ],
            "type": "histogram2d"
           }
          ],
          "histogram2dcontour": [
           {
            "colorbar": {
             "outlinewidth": 0,
             "ticks": ""
            },
            "colorscale": [
             [
              0,
              "#0d0887"
             ],
             [
              0.1111111111111111,
              "#46039f"
             ],
             [
              0.2222222222222222,
              "#7201a8"
             ],
             [
              0.3333333333333333,
              "#9c179e"
             ],
             [
              0.4444444444444444,
              "#bd3786"
             ],
             [
              0.5555555555555556,
              "#d8576b"
             ],
             [
              0.6666666666666666,
              "#ed7953"
             ],
             [
              0.7777777777777778,
              "#fb9f3a"
             ],
             [
              0.8888888888888888,
              "#fdca26"
             ],
             [
              1,
              "#f0f921"
             ]
            ],
            "type": "histogram2dcontour"
           }
          ],
          "mesh3d": [
           {
            "colorbar": {
             "outlinewidth": 0,
             "ticks": ""
            },
            "type": "mesh3d"
           }
          ],
          "parcoords": [
           {
            "line": {
             "colorbar": {
              "outlinewidth": 0,
              "ticks": ""
             }
            },
            "type": "parcoords"
           }
          ],
          "pie": [
           {
            "automargin": true,
            "type": "pie"
           }
          ],
          "scatter": [
           {
            "marker": {
             "colorbar": {
              "outlinewidth": 0,
              "ticks": ""
             }
            },
            "type": "scatter"
           }
          ],
          "scatter3d": [
           {
            "line": {
             "colorbar": {
              "outlinewidth": 0,
              "ticks": ""
             }
            },
            "marker": {
             "colorbar": {
              "outlinewidth": 0,
              "ticks": ""
             }
            },
            "type": "scatter3d"
           }
          ],
          "scattercarpet": [
           {
            "marker": {
             "colorbar": {
              "outlinewidth": 0,
              "ticks": ""
             }
            },
            "type": "scattercarpet"
           }
          ],
          "scattergeo": [
           {
            "marker": {
             "colorbar": {
              "outlinewidth": 0,
              "ticks": ""
             }
            },
            "type": "scattergeo"
           }
          ],
          "scattergl": [
           {
            "marker": {
             "colorbar": {
              "outlinewidth": 0,
              "ticks": ""
             }
            },
            "type": "scattergl"
           }
          ],
          "scattermapbox": [
           {
            "marker": {
             "colorbar": {
              "outlinewidth": 0,
              "ticks": ""
             }
            },
            "type": "scattermapbox"
           }
          ],
          "scatterpolar": [
           {
            "marker": {
             "colorbar": {
              "outlinewidth": 0,
              "ticks": ""
             }
            },
            "type": "scatterpolar"
           }
          ],
          "scatterpolargl": [
           {
            "marker": {
             "colorbar": {
              "outlinewidth": 0,
              "ticks": ""
             }
            },
            "type": "scatterpolargl"
           }
          ],
          "scatterternary": [
           {
            "marker": {
             "colorbar": {
              "outlinewidth": 0,
              "ticks": ""
             }
            },
            "type": "scatterternary"
           }
          ],
          "surface": [
           {
            "colorbar": {
             "outlinewidth": 0,
             "ticks": ""
            },
            "colorscale": [
             [
              0,
              "#0d0887"
             ],
             [
              0.1111111111111111,
              "#46039f"
             ],
             [
              0.2222222222222222,
              "#7201a8"
             ],
             [
              0.3333333333333333,
              "#9c179e"
             ],
             [
              0.4444444444444444,
              "#bd3786"
             ],
             [
              0.5555555555555556,
              "#d8576b"
             ],
             [
              0.6666666666666666,
              "#ed7953"
             ],
             [
              0.7777777777777778,
              "#fb9f3a"
             ],
             [
              0.8888888888888888,
              "#fdca26"
             ],
             [
              1,
              "#f0f921"
             ]
            ],
            "type": "surface"
           }
          ],
          "table": [
           {
            "cells": {
             "fill": {
              "color": "#EBF0F8"
             },
             "line": {
              "color": "white"
             }
            },
            "header": {
             "fill": {
              "color": "#C8D4E3"
             },
             "line": {
              "color": "white"
             }
            },
            "type": "table"
           }
          ]
         },
         "layout": {
          "annotationdefaults": {
           "arrowcolor": "#2a3f5f",
           "arrowhead": 0,
           "arrowwidth": 1
          },
          "autotypenumbers": "strict",
          "coloraxis": {
           "colorbar": {
            "outlinewidth": 0,
            "ticks": ""
           }
          },
          "colorscale": {
           "diverging": [
            [
             0,
             "#8e0152"
            ],
            [
             0.1,
             "#c51b7d"
            ],
            [
             0.2,
             "#de77ae"
            ],
            [
             0.3,
             "#f1b6da"
            ],
            [
             0.4,
             "#fde0ef"
            ],
            [
             0.5,
             "#f7f7f7"
            ],
            [
             0.6,
             "#e6f5d0"
            ],
            [
             0.7,
             "#b8e186"
            ],
            [
             0.8,
             "#7fbc41"
            ],
            [
             0.9,
             "#4d9221"
            ],
            [
             1,
             "#276419"
            ]
           ],
           "sequential": [
            [
             0,
             "#0d0887"
            ],
            [
             0.1111111111111111,
             "#46039f"
            ],
            [
             0.2222222222222222,
             "#7201a8"
            ],
            [
             0.3333333333333333,
             "#9c179e"
            ],
            [
             0.4444444444444444,
             "#bd3786"
            ],
            [
             0.5555555555555556,
             "#d8576b"
            ],
            [
             0.6666666666666666,
             "#ed7953"
            ],
            [
             0.7777777777777778,
             "#fb9f3a"
            ],
            [
             0.8888888888888888,
             "#fdca26"
            ],
            [
             1,
             "#f0f921"
            ]
           ],
           "sequentialminus": [
            [
             0,
             "#0d0887"
            ],
            [
             0.1111111111111111,
             "#46039f"
            ],
            [
             0.2222222222222222,
             "#7201a8"
            ],
            [
             0.3333333333333333,
             "#9c179e"
            ],
            [
             0.4444444444444444,
             "#bd3786"
            ],
            [
             0.5555555555555556,
             "#d8576b"
            ],
            [
             0.6666666666666666,
             "#ed7953"
            ],
            [
             0.7777777777777778,
             "#fb9f3a"
            ],
            [
             0.8888888888888888,
             "#fdca26"
            ],
            [
             1,
             "#f0f921"
            ]
           ]
          },
          "colorway": [
           "#636efa",
           "#EF553B",
           "#00cc96",
           "#ab63fa",
           "#FFA15A",
           "#19d3f3",
           "#FF6692",
           "#B6E880",
           "#FF97FF",
           "#FECB52"
          ],
          "font": {
           "color": "#2a3f5f"
          },
          "geo": {
           "bgcolor": "white",
           "lakecolor": "white",
           "landcolor": "#E5ECF6",
           "showlakes": true,
           "showland": true,
           "subunitcolor": "white"
          },
          "hoverlabel": {
           "align": "left"
          },
          "hovermode": "closest",
          "mapbox": {
           "style": "light"
          },
          "paper_bgcolor": "white",
          "plot_bgcolor": "#E5ECF6",
          "polar": {
           "angularaxis": {
            "gridcolor": "white",
            "linecolor": "white",
            "ticks": ""
           },
           "bgcolor": "#E5ECF6",
           "radialaxis": {
            "gridcolor": "white",
            "linecolor": "white",
            "ticks": ""
           }
          },
          "scene": {
           "xaxis": {
            "backgroundcolor": "#E5ECF6",
            "gridcolor": "white",
            "gridwidth": 2,
            "linecolor": "white",
            "showbackground": true,
            "ticks": "",
            "zerolinecolor": "white"
           },
           "yaxis": {
            "backgroundcolor": "#E5ECF6",
            "gridcolor": "white",
            "gridwidth": 2,
            "linecolor": "white",
            "showbackground": true,
            "ticks": "",
            "zerolinecolor": "white"
           },
           "zaxis": {
            "backgroundcolor": "#E5ECF6",
            "gridcolor": "white",
            "gridwidth": 2,
            "linecolor": "white",
            "showbackground": true,
            "ticks": "",
            "zerolinecolor": "white"
           }
          },
          "shapedefaults": {
           "line": {
            "color": "#2a3f5f"
           }
          },
          "ternary": {
           "aaxis": {
            "gridcolor": "white",
            "linecolor": "white",
            "ticks": ""
           },
           "baxis": {
            "gridcolor": "white",
            "linecolor": "white",
            "ticks": ""
           },
           "bgcolor": "#E5ECF6",
           "caxis": {
            "gridcolor": "white",
            "linecolor": "white",
            "ticks": ""
           }
          },
          "title": {
           "x": 0.05
          },
          "xaxis": {
           "automargin": true,
           "gridcolor": "white",
           "linecolor": "white",
           "ticks": "",
           "title": {
            "standoff": 15
           },
           "zerolinecolor": "white",
           "zerolinewidth": 2
          },
          "yaxis": {
           "automargin": true,
           "gridcolor": "white",
           "linecolor": "white",
           "ticks": "",
           "title": {
            "standoff": 15
           },
           "zerolinecolor": "white",
           "zerolinewidth": 2
          }
         }
        }
       }
      },
      "text/html": [
       "<div>                            <div id=\"baae7ebe-1f57-4b8b-9004-44fb14cf6c4d\" class=\"plotly-graph-div\" style=\"height:525px; width:100%;\"></div>            <script type=\"text/javascript\">                require([\"plotly\"], function(Plotly) {                    window.PLOTLYENV=window.PLOTLYENV || {};                                    if (document.getElementById(\"baae7ebe-1f57-4b8b-9004-44fb14cf6c4d\")) {                    Plotly.newPlot(                        \"baae7ebe-1f57-4b8b-9004-44fb14cf6c4d\",                        [{\"colorbar\":{\"title\":{\"text\":\"PBS OS\"}},\"colorscale\":[[0.0,\"rgb(12,51,131)\"],[0.25,\"rgb(10,136,186)\"],[0.5,\"rgb(242,211,56)\"],[0.75,\"rgb(242,143,56)\"],[1.0,\"rgb(217,30,30)\"]],\"locationmode\":\"country names\",\"locations\":[\"United States\",\"United Kingdom\",\"Guam\",\"Netherlands\",\"Canada\",\"Mexico\",\"Sweden\",\"Romania\"],\"text\":[\"iOS\",\"Macintosh\",\"Android\",\"Android\",\"iOS\",\"Macintosh\",\"iOS\",\"Windows\"],\"type\":\"choropleth\",\"z\":[1,2,3,3,1,2,1,4]}],                        {\"geo\":{\"scope\":\"world\"},\"template\":{\"data\":{\"bar\":[{\"error_x\":{\"color\":\"#2a3f5f\"},\"error_y\":{\"color\":\"#2a3f5f\"},\"marker\":{\"line\":{\"color\":\"#E5ECF6\",\"width\":0.5},\"pattern\":{\"fillmode\":\"overlay\",\"size\":10,\"solidity\":0.2}},\"type\":\"bar\"}],\"barpolar\":[{\"marker\":{\"line\":{\"color\":\"#E5ECF6\",\"width\":0.5},\"pattern\":{\"fillmode\":\"overlay\",\"size\":10,\"solidity\":0.2}},\"type\":\"barpolar\"}],\"carpet\":[{\"aaxis\":{\"endlinecolor\":\"#2a3f5f\",\"gridcolor\":\"white\",\"linecolor\":\"white\",\"minorgridcolor\":\"white\",\"startlinecolor\":\"#2a3f5f\"},\"baxis\":{\"endlinecolor\":\"#2a3f5f\",\"gridcolor\":\"white\",\"linecolor\":\"white\",\"minorgridcolor\":\"white\",\"startlinecolor\":\"#2a3f5f\"},\"type\":\"carpet\"}],\"choropleth\":[{\"colorbar\":{\"outlinewidth\":0,\"ticks\":\"\"},\"type\":\"choropleth\"}],\"contour\":[{\"colorbar\":{\"outlinewidth\":0,\"ticks\":\"\"},\"colorscale\":[[0.0,\"#0d0887\"],[0.1111111111111111,\"#46039f\"],[0.2222222222222222,\"#7201a8\"],[0.3333333333333333,\"#9c179e\"],[0.4444444444444444,\"#bd3786\"],[0.5555555555555556,\"#d8576b\"],[0.6666666666666666,\"#ed7953\"],[0.7777777777777778,\"#fb9f3a\"],[0.8888888888888888,\"#fdca26\"],[1.0,\"#f0f921\"]],\"type\":\"contour\"}],\"contourcarpet\":[{\"colorbar\":{\"outlinewidth\":0,\"ticks\":\"\"},\"type\":\"contourcarpet\"}],\"heatmap\":[{\"colorbar\":{\"outlinewidth\":0,\"ticks\":\"\"},\"colorscale\":[[0.0,\"#0d0887\"],[0.1111111111111111,\"#46039f\"],[0.2222222222222222,\"#7201a8\"],[0.3333333333333333,\"#9c179e\"],[0.4444444444444444,\"#bd3786\"],[0.5555555555555556,\"#d8576b\"],[0.6666666666666666,\"#ed7953\"],[0.7777777777777778,\"#fb9f3a\"],[0.8888888888888888,\"#fdca26\"],[1.0,\"#f0f921\"]],\"type\":\"heatmap\"}],\"heatmapgl\":[{\"colorbar\":{\"outlinewidth\":0,\"ticks\":\"\"},\"colorscale\":[[0.0,\"#0d0887\"],[0.1111111111111111,\"#46039f\"],[0.2222222222222222,\"#7201a8\"],[0.3333333333333333,\"#9c179e\"],[0.4444444444444444,\"#bd3786\"],[0.5555555555555556,\"#d8576b\"],[0.6666666666666666,\"#ed7953\"],[0.7777777777777778,\"#fb9f3a\"],[0.8888888888888888,\"#fdca26\"],[1.0,\"#f0f921\"]],\"type\":\"heatmapgl\"}],\"histogram\":[{\"marker\":{\"pattern\":{\"fillmode\":\"overlay\",\"size\":10,\"solidity\":0.2}},\"type\":\"histogram\"}],\"histogram2d\":[{\"colorbar\":{\"outlinewidth\":0,\"ticks\":\"\"},\"colorscale\":[[0.0,\"#0d0887\"],[0.1111111111111111,\"#46039f\"],[0.2222222222222222,\"#7201a8\"],[0.3333333333333333,\"#9c179e\"],[0.4444444444444444,\"#bd3786\"],[0.5555555555555556,\"#d8576b\"],[0.6666666666666666,\"#ed7953\"],[0.7777777777777778,\"#fb9f3a\"],[0.8888888888888888,\"#fdca26\"],[1.0,\"#f0f921\"]],\"type\":\"histogram2d\"}],\"histogram2dcontour\":[{\"colorbar\":{\"outlinewidth\":0,\"ticks\":\"\"},\"colorscale\":[[0.0,\"#0d0887\"],[0.1111111111111111,\"#46039f\"],[0.2222222222222222,\"#7201a8\"],[0.3333333333333333,\"#9c179e\"],[0.4444444444444444,\"#bd3786\"],[0.5555555555555556,\"#d8576b\"],[0.6666666666666666,\"#ed7953\"],[0.7777777777777778,\"#fb9f3a\"],[0.8888888888888888,\"#fdca26\"],[1.0,\"#f0f921\"]],\"type\":\"histogram2dcontour\"}],\"mesh3d\":[{\"colorbar\":{\"outlinewidth\":0,\"ticks\":\"\"},\"type\":\"mesh3d\"}],\"parcoords\":[{\"line\":{\"colorbar\":{\"outlinewidth\":0,\"ticks\":\"\"}},\"type\":\"parcoords\"}],\"pie\":[{\"automargin\":true,\"type\":\"pie\"}],\"scatter\":[{\"marker\":{\"colorbar\":{\"outlinewidth\":0,\"ticks\":\"\"}},\"type\":\"scatter\"}],\"scatter3d\":[{\"line\":{\"colorbar\":{\"outlinewidth\":0,\"ticks\":\"\"}},\"marker\":{\"colorbar\":{\"outlinewidth\":0,\"ticks\":\"\"}},\"type\":\"scatter3d\"}],\"scattercarpet\":[{\"marker\":{\"colorbar\":{\"outlinewidth\":0,\"ticks\":\"\"}},\"type\":\"scattercarpet\"}],\"scattergeo\":[{\"marker\":{\"colorbar\":{\"outlinewidth\":0,\"ticks\":\"\"}},\"type\":\"scattergeo\"}],\"scattergl\":[{\"marker\":{\"colorbar\":{\"outlinewidth\":0,\"ticks\":\"\"}},\"type\":\"scattergl\"}],\"scattermapbox\":[{\"marker\":{\"colorbar\":{\"outlinewidth\":0,\"ticks\":\"\"}},\"type\":\"scattermapbox\"}],\"scatterpolar\":[{\"marker\":{\"colorbar\":{\"outlinewidth\":0,\"ticks\":\"\"}},\"type\":\"scatterpolar\"}],\"scatterpolargl\":[{\"marker\":{\"colorbar\":{\"outlinewidth\":0,\"ticks\":\"\"}},\"type\":\"scatterpolargl\"}],\"scatterternary\":[{\"marker\":{\"colorbar\":{\"outlinewidth\":0,\"ticks\":\"\"}},\"type\":\"scatterternary\"}],\"surface\":[{\"colorbar\":{\"outlinewidth\":0,\"ticks\":\"\"},\"colorscale\":[[0.0,\"#0d0887\"],[0.1111111111111111,\"#46039f\"],[0.2222222222222222,\"#7201a8\"],[0.3333333333333333,\"#9c179e\"],[0.4444444444444444,\"#bd3786\"],[0.5555555555555556,\"#d8576b\"],[0.6666666666666666,\"#ed7953\"],[0.7777777777777778,\"#fb9f3a\"],[0.8888888888888888,\"#fdca26\"],[1.0,\"#f0f921\"]],\"type\":\"surface\"}],\"table\":[{\"cells\":{\"fill\":{\"color\":\"#EBF0F8\"},\"line\":{\"color\":\"white\"}},\"header\":{\"fill\":{\"color\":\"#C8D4E3\"},\"line\":{\"color\":\"white\"}},\"type\":\"table\"}]},\"layout\":{\"annotationdefaults\":{\"arrowcolor\":\"#2a3f5f\",\"arrowhead\":0,\"arrowwidth\":1},\"autotypenumbers\":\"strict\",\"coloraxis\":{\"colorbar\":{\"outlinewidth\":0,\"ticks\":\"\"}},\"colorscale\":{\"diverging\":[[0,\"#8e0152\"],[0.1,\"#c51b7d\"],[0.2,\"#de77ae\"],[0.3,\"#f1b6da\"],[0.4,\"#fde0ef\"],[0.5,\"#f7f7f7\"],[0.6,\"#e6f5d0\"],[0.7,\"#b8e186\"],[0.8,\"#7fbc41\"],[0.9,\"#4d9221\"],[1,\"#276419\"]],\"sequential\":[[0.0,\"#0d0887\"],[0.1111111111111111,\"#46039f\"],[0.2222222222222222,\"#7201a8\"],[0.3333333333333333,\"#9c179e\"],[0.4444444444444444,\"#bd3786\"],[0.5555555555555556,\"#d8576b\"],[0.6666666666666666,\"#ed7953\"],[0.7777777777777778,\"#fb9f3a\"],[0.8888888888888888,\"#fdca26\"],[1.0,\"#f0f921\"]],\"sequentialminus\":[[0.0,\"#0d0887\"],[0.1111111111111111,\"#46039f\"],[0.2222222222222222,\"#7201a8\"],[0.3333333333333333,\"#9c179e\"],[0.4444444444444444,\"#bd3786\"],[0.5555555555555556,\"#d8576b\"],[0.6666666666666666,\"#ed7953\"],[0.7777777777777778,\"#fb9f3a\"],[0.8888888888888888,\"#fdca26\"],[1.0,\"#f0f921\"]]},\"colorway\":[\"#636efa\",\"#EF553B\",\"#00cc96\",\"#ab63fa\",\"#FFA15A\",\"#19d3f3\",\"#FF6692\",\"#B6E880\",\"#FF97FF\",\"#FECB52\"],\"font\":{\"color\":\"#2a3f5f\"},\"geo\":{\"bgcolor\":\"white\",\"lakecolor\":\"white\",\"landcolor\":\"#E5ECF6\",\"showlakes\":true,\"showland\":true,\"subunitcolor\":\"white\"},\"hoverlabel\":{\"align\":\"left\"},\"hovermode\":\"closest\",\"mapbox\":{\"style\":\"light\"},\"paper_bgcolor\":\"white\",\"plot_bgcolor\":\"#E5ECF6\",\"polar\":{\"angularaxis\":{\"gridcolor\":\"white\",\"linecolor\":\"white\",\"ticks\":\"\"},\"bgcolor\":\"#E5ECF6\",\"radialaxis\":{\"gridcolor\":\"white\",\"linecolor\":\"white\",\"ticks\":\"\"}},\"scene\":{\"xaxis\":{\"backgroundcolor\":\"#E5ECF6\",\"gridcolor\":\"white\",\"gridwidth\":2,\"linecolor\":\"white\",\"showbackground\":true,\"ticks\":\"\",\"zerolinecolor\":\"white\"},\"yaxis\":{\"backgroundcolor\":\"#E5ECF6\",\"gridcolor\":\"white\",\"gridwidth\":2,\"linecolor\":\"white\",\"showbackground\":true,\"ticks\":\"\",\"zerolinecolor\":\"white\"},\"zaxis\":{\"backgroundcolor\":\"#E5ECF6\",\"gridcolor\":\"white\",\"gridwidth\":2,\"linecolor\":\"white\",\"showbackground\":true,\"ticks\":\"\",\"zerolinecolor\":\"white\"}},\"shapedefaults\":{\"line\":{\"color\":\"#2a3f5f\"}},\"ternary\":{\"aaxis\":{\"gridcolor\":\"white\",\"linecolor\":\"white\",\"ticks\":\"\"},\"baxis\":{\"gridcolor\":\"white\",\"linecolor\":\"white\",\"ticks\":\"\"},\"bgcolor\":\"#E5ECF6\",\"caxis\":{\"gridcolor\":\"white\",\"linecolor\":\"white\",\"ticks\":\"\"}},\"title\":{\"x\":0.05},\"xaxis\":{\"automargin\":true,\"gridcolor\":\"white\",\"linecolor\":\"white\",\"ticks\":\"\",\"title\":{\"standoff\":15},\"zerolinecolor\":\"white\",\"zerolinewidth\":2},\"yaxis\":{\"automargin\":true,\"gridcolor\":\"white\",\"linecolor\":\"white\",\"ticks\":\"\",\"title\":{\"standoff\":15},\"zerolinecolor\":\"white\",\"zerolinewidth\":2}}}},                        {\"responsive\": true}                    ).then(function(){\n",
       "                            \n",
       "var gd = document.getElementById('baae7ebe-1f57-4b8b-9004-44fb14cf6c4d');\n",
       "var x = new MutationObserver(function (mutations, observer) {{\n",
       "        var display = window.getComputedStyle(gd).display;\n",
       "        if (!display || display === 'none') {{\n",
       "            console.log([gd, 'removed!']);\n",
       "            Plotly.purge(gd);\n",
       "            observer.disconnect();\n",
       "        }}\n",
       "}});\n",
       "\n",
       "// Listen for the removal of the full notebook cells\n",
       "var notebookContainer = gd.closest('#notebook-container');\n",
       "if (notebookContainer) {{\n",
       "    x.observe(notebookContainer, {childList: true});\n",
       "}}\n",
       "\n",
       "// Listen for the clearing of the current output cell\n",
       "var outputEl = gd.closest('.output');\n",
       "if (outputEl) {{\n",
       "    x.observe(outputEl, {childList: true});\n",
       "}}\n",
       "\n",
       "                        })                };                });            </script>        </div>"
      ]
     },
     "metadata": {},
     "output_type": "display_data"
    }
   ],
   "source": [
    "#Creating function to get Most Ussed Operating System in Each Country\n",
    "def condition_for_geo_device(df1):\n",
    "    dic = {}\n",
    "    for i in states_for_device: \n",
    "        account_per_country = df1[df1[\"Country\"] == i][\"Operating System\"].sort_values(ascending=False).value_counts()\n",
    "        account_per_country = account_per_country.to_dict()\n",
    "        k = list(account_per_country.keys())[0]\n",
    "        dic[i] = str(k)\n",
    "    return dic\n",
    "dic = condition_for_geo_device(df1) \n",
    "\n",
    "#Most Ussed Operating System in Each Country\n",
    "choropleth_map = go.Figure(\n",
    "    data = {\n",
    "        'type':'choropleth',\n",
    "        'locationmode':'country names',        \n",
    "        'locations':['United States', 'United Kingdom', 'Guam', 'Netherlands', 'Canada', 'Mexico', 'Sweden', 'Romania'],\n",
    "        'colorscale':'Portland',\n",
    "        'text':['iOS', 'Macintosh', 'Android', 'Android', 'iOS', 'Macintosh', 'iOS', 'Windows'],\n",
    "        'z':[1,2,3,3,1,2,1,4],                  \n",
    "        'colorbar':{'title':'PBS OS'},\n",
    "    },     \n",
    "    layout = {\n",
    "      'geo':{\n",
    "          'scope':'world'\n",
    "      }  \n",
    "    })\n",
    "choropleth_map\n"
   ]
  },
  {
   "cell_type": "code",
   "execution_count": 377,
   "id": "0609a77e",
   "metadata": {},
   "outputs": [
    {
     "data": {
      "text/plain": [
       "<AxesSubplot:>"
      ]
     },
     "execution_count": 377,
     "metadata": {},
     "output_type": "execute_result"
    },
    {
     "data": {
      "image/png": "[encoded data removed]",
      "text/plain": [
       "<Figure size 432x288 with 1 Axes>"
      ]
     },
     "metadata": {
      "needs_background": "light"
     },
     "output_type": "display_data"
    }
   ],
   "source": [
    "#Most viewed event is Livestream (66 views) then FROBTLINE and Holocaust(20) and the rest\n",
    "top_5_watched_events = df_replaced_copy[\"Event Label\"].sort_values(ascending=False).value_counts()[:5]\n",
    "top_5_dict = top_5_watched_events.to_dict()\n",
    "sns.histplot(data=top_5_dict,x=top_5_dict.values(),y=top_5_dict.keys())\n"
   ]
  },
  {
   "cell_type": "code",
   "execution_count": 403,
   "id": "18c5acc5",
   "metadata": {},
   "outputs": [
    {
     "data": {
      "text/plain": [
       "([<matplotlib.patches.Wedge at 0x2142b152a90>,\n",
       "  <matplotlib.patches.Wedge at 0x2142b1601c0>,\n",
       "  <matplotlib.patches.Wedge at 0x2142b1606d0>],\n",
       " [Text(-1.0180854531882837, 0.4165357247660844, 'Full_length'),\n",
       "  Text(0.9289468647550282, -0.5891160517774096, 'Clip'),\n",
       "  Text(1.0828501716602064, -0.19348257217501957, 'Preview')],\n",
       " [Text(-0.5553193381027002, 0.2272013044178642, '87.6%'),\n",
       "  Text(0.506698289866379, -0.32133602824222335, '6.7%'),\n",
       "  Text(0.5906455481782943, -0.10553594845910157, '5.6%')])"
      ]
     },
     "execution_count": 403,
     "metadata": {},
     "output_type": "execute_result"
    },
    {
     "data": {
      "image/png": "[encoded data removed]",
      "text/plain": [
       "<Figure size 576x432 with 1 Axes>"
      ]
     },
     "metadata": {},
     "output_type": "display_data"
    }
   ],
   "source": [
    "#Most of watched videos are full lentgh types. Less than 10% are Clips and Previews\n",
    "video_types = df_replaced_copy[\"Video Type\"].sort_values().value_counts()[:3]\n",
    "plt.figure(figsize=(8, 6))\n",
    "device = df[\"Operating System\"].value_counts()\n",
    "plt.pie(video_types,labels=[\"Full_length\",\"Clip\",\"Preview\"],autopct='%1.1f%%',textprops={'fontsize': 12})"
   ]
  },
  {
   "cell_type": "code",
   "execution_count": 425,
   "id": "384ee6cf",
   "metadata": {},
   "outputs": [
    {
     "data": {
      "text/plain": [
       "<AxesSubplot:>"
      ]
     },
     "execution_count": 425,
     "metadata": {},
     "output_type": "execute_result"
    },
    {
     "data": {
      "image/png": "[encoded data removed]",
      "text/plain": [
       "<Figure size 1152x432 with 1 Axes>"
      ]
     },
     "metadata": {
      "needs_background": "light"
     },
     "output_type": "display_data"
    }
   ],
   "source": [
    "#Top 20 most watched programs\n",
    "plt.figure(figsize=(16,6))\n",
    "most_watched_programs = df_replaced_copy[\"Program\"].sort_values().value_counts()[:20]\n",
    "most_watched_programs.plot(kind=\"bar\")"
   ]
  },
  {
   "cell_type": "code",
   "execution_count": 433,
   "id": "5063b54b",
   "metadata": {},
   "outputs": [
    {
     "data": {
      "text/plain": [
       "1    1115\n",
       "0     885\n",
       "Name: Segment - Passport User_True, dtype: int64"
      ]
     },
     "execution_count": 433,
     "metadata": {},
     "output_type": "execute_result"
    }
   ],
   "source": [
    "df_replaced_copy[\"Segment - Passport User_True\"].value_counts()"
   ]
  },
  {
   "cell_type": "markdown",
   "id": "c26214eb",
   "metadata": {},
   "source": [
    "devices = ['tablet', 'desktop', 'mobile']\n",
    "segments = [\"Segment - LiveStream User\",\"Segment - Streaming User\",\"Segment - Passport User\"]\n",
    "def passport_streams(df):\n",
    "    dic = {}\n",
    "    k_list = []\n",
    "    v_list = []\n",
    "    for i in devices:\n",
    "            for y in segments:   \n",
    "                segment_passport = df[df[\"Device\"] == i][y].value_counts()\n",
    "                segment_passport = segment_passport.to_dict()\n",
    "                k = list(segment_passport.keys())\n",
    "                k = tuple(k)\n",
    "                v = list(segment_passport.values())\n",
    "                k_list.append(tuple(k))\n",
    "                v_list.append(v)\n",
    "                print(v_list)\n",
    "    return k_list, v_list\n",
    "            \n",
    "k_list,v_list = passport_streams(df)\n"
   ]
  },
  {
   "cell_type": "code",
   "execution_count": null,
   "id": "26706aa5",
   "metadata": {},
   "outputs": [],
   "source": []
  },
  {
   "cell_type": "code",
   "execution_count": null,
   "id": "a6ad9f8e",
   "metadata": {},
   "outputs": [],
   "source": []
  },
  {
   "cell_type": "code",
   "execution_count": null,
   "id": "bdce7fc8",
   "metadata": {},
   "outputs": [],
   "source": []
  },
  {
   "cell_type": "code",
   "execution_count": null,
   "id": "683b3693",
   "metadata": {},
   "outputs": [],
   "source": []
  }
 ],
 "metadata": {
  "kernelspec": {
   "display_name": "Python 3",
   "language": "python",
   "name": "python3"
  },
  "language_info": {
   "codemirror_mode": {
    "name": "ipython",
    "version": 3
   },
   "file_extension": ".py",
   "mimetype": "text/x-python",
   "name": "python",
   "nbconvert_exporter": "python",
   "pygments_lexer": "ipython3",
   "version": "3.8.8"
  }
 },
 "nbformat": 4,
 "nbformat_minor": 5
}
